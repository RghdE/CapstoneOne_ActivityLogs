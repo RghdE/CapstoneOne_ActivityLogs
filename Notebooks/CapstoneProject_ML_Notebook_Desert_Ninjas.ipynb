{
  "cells": [
    {
      "cell_type": "markdown",
      "metadata": {
        "id": "obgpgNR61fOq"
      },
      "source": [
        "# BIG DATA & AI Bootcamp\n",
        "\n",
        "### Machine Learning Track (2)\n",
        "### Capstone Project\n",
        "### FinTech startup data\n",
        "\n",
        "### 3rd Notebook: ML Notebook\n",
        "\n",
        "#### Team Name: Desert Ninjas\n",
        "#### Team Members:\n",
        "1. Reema Alaswad\n",
        "2. Maha  Alhazzani\n",
        "3. Aljohara Alkanhal\n",
        "4. Raghad Aleisa\n",
        "5. Eman Aldosari\n",
        "\n",
        "***"
      ]
    },
    {
      "cell_type": "markdown",
      "metadata": {
        "id": "ODXbDtNRDY9H"
      },
      "source": [
        "#### Project Objective:\n",
        "###### Predict customer behavior and activity logs to see if the customer would invest in the company or no. \n",
        "\n",
        "#### Dataset Description:\n"
      ]
    },
    {
      "cell_type": "markdown",
      "metadata": {
        "id": "nLgve4iLDY9I"
      },
      "source": [
        "#### 🔹 3rd Notebook: ML Notebook🔹\n",
        "1. Importing Packages\n",
        "2. Dataset Loading\n",
        "3. Feature Engineering\n",
        "  - Label Enconding\n",
        "  - Scaling\n",
        "4. Oversampling \n",
        "5. Train models\n",
        "\n",
        "5. Model Optimization - Hyperparameter Tuning\n",
        "7. Model Pipeline"
      ]
    },
    {
      "cell_type": "markdown",
      "metadata": {
        "id": "qkqt0hWYwMtC"
      },
      "source": [
        "### 1. Importing Packages"
      ]
    },
    {
      "cell_type": "code",
      "execution_count": null,
      "metadata": {
        "id": "eRHt5ZN8oiky"
      },
      "outputs": [],
      "source": [
        "# Importing all necessary packages\n",
        "import pandas as pd\n",
        "import numpy as np\n",
        "\n",
        "import matplotlib.pyplot as plt\n",
        "import seaborn as sns\n",
        "#Plot style\n",
        "plt.style.use(\"seaborn-whitegrid\")\n",
        "plt.style.use(\"ggplot\")\n",
        "plt.style.use(\"seaborn\")\n",
        "%matplotlib inline\n",
        "import time\n",
        "import datetime\n",
        "\n",
        "# Train Test split\n",
        "from sklearn.model_selection import train_test_split\n",
        "\n",
        "# Cost Functions\n",
        "\n",
        "# For Regression\n",
        "from sklearn.metrics import mean_squared_error, mean_absolute_error, accuracy_score, recall_score, precision_score\n",
        "from sklearn.metrics import r2_score\n",
        "from sklearn.dummy import DummyRegressor\n",
        "\n",
        "# The Explained Variance score is similar to the R^2 score, \n",
        "# with the notable difference that it does not account for systematic offsets in the prediction.\n",
        "# Most often the R^2 score should be preferred.\n",
        "from sklearn.metrics import explained_variance_score\n",
        "# For classification\n",
        "from sklearn.metrics import accuracy_score\n",
        "from sklearn.metrics import confusion_matrix\n",
        "from sklearn.metrics import classification_report\n",
        "\n",
        "\n",
        "# Scalers\n",
        "from sklearn.preprocessing import StandardScaler\n",
        "from sklearn.preprocessing import RobustScaler\n",
        "from sklearn.preprocessing import MinMaxScaler\n",
        "\n",
        "# Feature Engineering encoders\n",
        "from sklearn.preprocessing import OneHotEncoder\n",
        "from sklearn.preprocessing import OrdinalEncoder\n",
        "from sklearn.preprocessing import LabelEncoder\n",
        "\n",
        "\n",
        "\n",
        "# Classification Models\n",
        "from sklearn.linear_model import LogisticRegression\n",
        "from sklearn.tree import DecisionTreeClassifier\n",
        "from sklearn.ensemble import RandomForestClassifier\n",
        "from sklearn.svm import SVC\n",
        "from xgboost import XGBClassifier\n",
        "\n",
        "\n",
        "\n",
        "from sklearn.metrics import roc_curve, roc_auc_score\n",
        "\n",
        "\n",
        "from sklearn.model_selection import cross_val_score\n",
        "# Hyperparameter\n",
        "from sklearn.model_selection import GridSearchCV\n",
        "\n",
        "\n",
        "# Confusion Matrix Plot\n",
        "from sklearn.metrics import plot_confusion_matrix\n",
        "from sklearn.metrics import f1_score\n",
        "\n",
        "# Pipeline\n",
        "from sklearn.pipeline import Pipeline\n",
        "from sklearn.pipeline import make_pipeline\n",
        "from sklearn.compose import ColumnTransformer\n",
        "\n",
        "# Preprocessing\n",
        "from sklearn.impute import SimpleImputer\n",
        "\n",
        "# PCA for dimentionality Reduction\n",
        "from sklearn.decomposition import PCA\n",
        "\n",
        "# Trees\n",
        "from sklearn import tree\n",
        "\n",
        "# K means\n",
        "from sklearn.cluster import KMeans\n",
        "from sklearn.cluster import AgglomerativeClustering\n",
        "import scipy.cluster.hierarchy as sch\n",
        "import warnings\n",
        "warnings.filterwarnings('ignore')\n",
        "from imblearn.over_sampling import SMOTE"
      ]
    },
    {
      "cell_type": "code",
      "execution_count": null,
      "metadata": {
        "colab": {
          "base_uri": "https://localhost:8080/"
        },
        "id": "BbaYfDZZlAtl",
        "outputId": "11ce4daa-fde7-4d6f-e42f-17e6d6304d19"
      },
      "outputs": [
        {
          "output_type": "stream",
          "name": "stdout",
          "text": [
            "Mounted at /content/drive\n"
          ]
        }
      ],
      "source": [
        "from google.colab import drive\n",
        "drive.mount('/content/drive')"
      ]
    },
    {
      "cell_type": "markdown",
      "metadata": {
        "id": "LxR8joHowlvw"
      },
      "source": [
        "### 2. Dataset Loading"
      ]
    },
    {
      "cell_type": "code",
      "source": [
        "# Load the dataset\n",
        "df = pd.read_csv('/content/drive/MyDrive/Final_extracted_dataset.csv')\n",
        "df.sample(15)"
      ],
      "metadata": {
        "id": "-5R0M9ehm_YM",
        "colab": {
          "base_uri": "https://localhost:8080/",
          "height": 1000
        },
        "outputId": "1cb3b880-f979-4248-d46f-b363c031e7c0"
      },
      "execution_count": null,
      "outputs": [
        {
          "output_type": "execute_result",
          "data": {
            "text/plain": [
              "      Unnamed: 0                                         session_id  \\\n",
              "976        976.0  1833623fd5923-0df6f32f9711a2-4f710037-448e0-18...   \n",
              "1078      1078.0  1833639278e3da-01e342677a2a308-1457d75-505c8-1...   \n",
              "1893      1893.0  18337dfd1731ef-0937992f3b7875-296e4f35-60c28-1...   \n",
              "1281      1281.0  183364f15fc7c9-099efb199261fe8-3f62684b-fa000-...   \n",
              "2402      2402.0  1833c48ee7fc69-0a16768604aecd-2a6d4933-60c28-1...   \n",
              "1915      1915.0  183380381077ee-04072a158d1a678-7c7f3363-4a574-...   \n",
              "1639      1639.0  18336d956ff5fd-0790cc1438c773-26021c51-14efd7-...   \n",
              "2903      2903.0  18341b64834576-04cf7eab401c6f8-2a6d4c36-5a900-...   \n",
              "604        604.0  183354590cb40d-07c318447e28c6-4a6a0437-448e0-1...   \n",
              "485        485.0  18332a0f6bf48b-070e705a73fb6c-1457d75-505c8-18...   \n",
              "1539      1539.0  18336a02db6bc0-070f8f32dbb8ea-26021c51-1fa400-...   \n",
              "2154      2154.0  1833af8927e767-0a3d03623e07ca-78565475-100200-...   \n",
              "2081      2081.0  1833a746d5d10d4-01873a369434b8-1457d75-4a574-1...   \n",
              "419        419.0  18331f8f4041ef-055fb31a5d27c6-1457d75-505c8-18...   \n",
              "1876      1876.0  18337d14533e0e-0521778b574668-296e4f35-505c8-1...   \n",
              "\n",
              "             Type                                          window_id  \\\n",
              "976      pageview  1833623fd5b183-052c52df6be1a2-4f710037-448e0-1...   \n",
              "1078    pageleave  183363927901822-0fed7456df2413-1457d75-505c8-1...   \n",
              "1893    pageleave  18337dfd175a3f-012dca197a5016-296e4f35-60c28-1...   \n",
              "1281     pageview  183364f15fe15fc-008b08298a7f7a8-3f62684b-fa000...   \n",
              "2402     pageview  1833c48ee81130d-09bdc583c21063-2a6d4933-60c28-...   \n",
              "1915    pageleave  18338038109d27-0c53920ee5c39a-7c7f3363-4a574-1...   \n",
              "1639     pageview  18336d9570211df-0d6e468aa34ef7-26021c51-14efd7...   \n",
              "2903  autocapture  18341b64836a25-0dcdd664dbea83-2a6d4c36-5a900-1...   \n",
              "604      pageview  183354590cd62e-0cc19310b2b1c4-4a6a0437-448e0-1...   \n",
              "485      pageview  18332a0f6c11c30-0e23cca84594538-1457d75-505c8-...   \n",
              "1539    pageleave  18336a02db8b20-02176abf1dac9d-26021c51-1fa400-...   \n",
              "2154     pageview  1833af89280a44-0dc8d0964c4cc7-78565475-100200-...   \n",
              "2081     pageview  1833a746d5f23e0-0a8f535cd4885d-1457d75-4a574-1...   \n",
              "419     pageleave  18331f8f4071508-0bce5a7048e8308-1457d75-505c8-...   \n",
              "1876     pageview  18337d1453510ee-069c7add3ef65e8-296e4f35-505c8...   \n",
              "\n",
              "             browser device_type        os        host  \\\n",
              "976           Chrome      Mobile   Android  company.sa   \n",
              "1078   Mobile Safari      Mobile       iOS  company.sa   \n",
              "1893   Mobile Safari      Mobile       iOS  company.sa   \n",
              "1281          Safari     Desktop  Mac OS X  company.sa   \n",
              "2402   Mobile Safari      Mobile       iOS  company.sa   \n",
              "1915   Mobile Safari      Mobile       iOS  company.sa   \n",
              "1639          Chrome     Desktop   Windows  company.sa   \n",
              "2903   Mobile Safari      Mobile       iOS  company.sa   \n",
              "604           Chrome      Mobile   Android  company.sa   \n",
              "485    Mobile Safari      Mobile       iOS  company.sa   \n",
              "1539          Chrome     Desktop   Windows  company.sa   \n",
              "2154  Microsoft Edge     Desktop   Windows  company.sa   \n",
              "2081   Mobile Safari      Mobile       iOS  company.sa   \n",
              "419    Mobile Safari      Mobile       iOS  company.sa   \n",
              "1876   Mobile Safari      Mobile       iOS  company.sa   \n",
              "\n",
              "                                            current_url  \\\n",
              "976         https//company.sa/investor/opportunity/Vn15   \n",
              "1078        https//company.sa/investor/opportunity/Vn15   \n",
              "1893   https//company.sa/investor/investment-portfolio#   \n",
              "1281                https//company.sa/investor/profile#   \n",
              "2402            https//company.sa/investor/transactions   \n",
              "1915    https//company.sa/investor/investment-portfolio   \n",
              "1639        https//company.sa/investor/opportunity/Vn18   \n",
              "2903    https//company.sa/investor/investment-portfolio   \n",
              "604    https//company.sa/investor/investment-portfolio#   \n",
              "485         https//company.sa/investor/opportunity/VX18   \n",
              "1539  https//company.sa/investor/transactions/detail...   \n",
              "2154  https//company.sa/entrepreneur/entrepreneur_da...   \n",
              "2081        https//company.sa/investor/opportunity/Vn16   \n",
              "419         https//company.sa/investor/opportunity/Vn18   \n",
              "1876            https//company.sa/investor/transactions   \n",
              "\n",
              "                                               referrer  ... screen_width  \\\n",
              "976                                              direct  ...        360.0   \n",
              "1078                                 https//company.sa/  ...        390.0   \n",
              "1893               https//company.sa/investor/dashboard  ...        428.0   \n",
              "1281                                             direct  ...       1280.0   \n",
              "2402    https//company.sa/investor/investment-portfolio  ...        428.0   \n",
              "1915                                             direct  ...        375.0   \n",
              "1639                                             direct  ...       1561.0   \n",
              "2903                                             direct  ...        414.0   \n",
              "604                https//company.sa/investor/dashboard  ...        360.0   \n",
              "485                                              direct  ...        390.0   \n",
              "1539  https//company.sa/investor/investment/Vn17/for...  ...       1920.0   \n",
              "2154  https//company.sa/entrepreneur/entrepreneur_da...  ...       1366.0   \n",
              "2081    https//company.sa/investor/investment-portfolio  ...        375.0   \n",
              "419     https//company.sa/investor/investment-portfolio  ...        390.0   \n",
              "1876        https//company.sa/investor/opportunity/Vn18  ...        390.0   \n",
              "\n",
              "     viewport_height viewport_width  min_time  max_time duration_hours  \\\n",
              "976            718.0          360.0   9:17:51   9:27:21           0.16   \n",
              "1078           661.0          390.0   9:40:58   9:40:58           0.00   \n",
              "1893           746.0          428.0  17:22:38  17:22:38           0.00   \n",
              "1281           672.0         1280.0  10:04:56  10:23:47           0.31   \n",
              "2402           746.0          428.0  13:55:56  14:01:41           0.10   \n",
              "1915           635.0          375.0  18:01:37  18:01:37           0.00   \n",
              "1639           689.0         1562.0  12:35:56  12:50:58           0.25   \n",
              "2903           829.0          414.0  15:13:54  15:13:54           0.00   \n",
              "604            716.0          360.0   5:14:55   5:15:26           0.01   \n",
              "485            664.0          390.0  16:55:53  16:55:53           0.00   \n",
              "1539           961.0         1920.0  11:33:30  11:33:30           0.00   \n",
              "2154           657.0         1366.0   7:48:32   8:58:47           1.17   \n",
              "2081           720.0          375.0   5:24:12   5:24:29           0.00   \n",
              "419            664.0          390.0  13:52:22  13:52:22           0.00   \n",
              "1876           745.0          390.0  17:06:45  17:11:53           0.09   \n",
              "\n",
              "     duration_minutes  duration_seconds total_pages invest  \n",
              "976              9.50             570.0         2.0     No  \n",
              "1078             0.00               0.0         1.0     No  \n",
              "1893             0.00               0.0         1.0     No  \n",
              "1281            18.85            1131.0        48.0     No  \n",
              "2402             5.75             345.0        31.0     No  \n",
              "1915             0.00               0.0         1.0     No  \n",
              "1639            15.03             902.0         2.0     No  \n",
              "2903             0.00               0.0         1.0     No  \n",
              "604              0.52              31.0        12.0     No  \n",
              "485              0.00               0.0         1.0     No  \n",
              "1539             0.00               0.0         1.0  Maybe  \n",
              "2154            70.25            4215.0       233.0     No  \n",
              "2081             0.28              17.0         5.0     No  \n",
              "419              0.00               0.0         1.0     No  \n",
              "1876             5.13             308.0        17.0     No  \n",
              "\n",
              "[15 rows x 40 columns]"
            ],
            "text/html": [
              "\n",
              "  <div id=\"df-e64b9caa-9e4d-4f80-bf6c-76ff724f6015\">\n",
              "    <div class=\"colab-df-container\">\n",
              "      <div>\n",
              "<style scoped>\n",
              "    .dataframe tbody tr th:only-of-type {\n",
              "        vertical-align: middle;\n",
              "    }\n",
              "\n",
              "    .dataframe tbody tr th {\n",
              "        vertical-align: top;\n",
              "    }\n",
              "\n",
              "    .dataframe thead th {\n",
              "        text-align: right;\n",
              "    }\n",
              "</style>\n",
              "<table border=\"1\" class=\"dataframe\">\n",
              "  <thead>\n",
              "    <tr style=\"text-align: right;\">\n",
              "      <th></th>\n",
              "      <th>Unnamed: 0</th>\n",
              "      <th>session_id</th>\n",
              "      <th>Type</th>\n",
              "      <th>window_id</th>\n",
              "      <th>browser</th>\n",
              "      <th>device_type</th>\n",
              "      <th>os</th>\n",
              "      <th>host</th>\n",
              "      <th>current_url</th>\n",
              "      <th>referrer</th>\n",
              "      <th>...</th>\n",
              "      <th>screen_width</th>\n",
              "      <th>viewport_height</th>\n",
              "      <th>viewport_width</th>\n",
              "      <th>min_time</th>\n",
              "      <th>max_time</th>\n",
              "      <th>duration_hours</th>\n",
              "      <th>duration_minutes</th>\n",
              "      <th>duration_seconds</th>\n",
              "      <th>total_pages</th>\n",
              "      <th>invest</th>\n",
              "    </tr>\n",
              "  </thead>\n",
              "  <tbody>\n",
              "    <tr>\n",
              "      <th>976</th>\n",
              "      <td>976.0</td>\n",
              "      <td>1833623fd5923-0df6f32f9711a2-4f710037-448e0-18...</td>\n",
              "      <td>pageview</td>\n",
              "      <td>1833623fd5b183-052c52df6be1a2-4f710037-448e0-1...</td>\n",
              "      <td>Chrome</td>\n",
              "      <td>Mobile</td>\n",
              "      <td>Android</td>\n",
              "      <td>company.sa</td>\n",
              "      <td>https//company.sa/investor/opportunity/Vn15</td>\n",
              "      <td>direct</td>\n",
              "      <td>...</td>\n",
              "      <td>360.0</td>\n",
              "      <td>718.0</td>\n",
              "      <td>360.0</td>\n",
              "      <td>9:17:51</td>\n",
              "      <td>9:27:21</td>\n",
              "      <td>0.16</td>\n",
              "      <td>9.50</td>\n",
              "      <td>570.0</td>\n",
              "      <td>2.0</td>\n",
              "      <td>No</td>\n",
              "    </tr>\n",
              "    <tr>\n",
              "      <th>1078</th>\n",
              "      <td>1078.0</td>\n",
              "      <td>1833639278e3da-01e342677a2a308-1457d75-505c8-1...</td>\n",
              "      <td>pageleave</td>\n",
              "      <td>183363927901822-0fed7456df2413-1457d75-505c8-1...</td>\n",
              "      <td>Mobile Safari</td>\n",
              "      <td>Mobile</td>\n",
              "      <td>iOS</td>\n",
              "      <td>company.sa</td>\n",
              "      <td>https//company.sa/investor/opportunity/Vn15</td>\n",
              "      <td>https//company.sa/</td>\n",
              "      <td>...</td>\n",
              "      <td>390.0</td>\n",
              "      <td>661.0</td>\n",
              "      <td>390.0</td>\n",
              "      <td>9:40:58</td>\n",
              "      <td>9:40:58</td>\n",
              "      <td>0.00</td>\n",
              "      <td>0.00</td>\n",
              "      <td>0.0</td>\n",
              "      <td>1.0</td>\n",
              "      <td>No</td>\n",
              "    </tr>\n",
              "    <tr>\n",
              "      <th>1893</th>\n",
              "      <td>1893.0</td>\n",
              "      <td>18337dfd1731ef-0937992f3b7875-296e4f35-60c28-1...</td>\n",
              "      <td>pageleave</td>\n",
              "      <td>18337dfd175a3f-012dca197a5016-296e4f35-60c28-1...</td>\n",
              "      <td>Mobile Safari</td>\n",
              "      <td>Mobile</td>\n",
              "      <td>iOS</td>\n",
              "      <td>company.sa</td>\n",
              "      <td>https//company.sa/investor/investment-portfolio#</td>\n",
              "      <td>https//company.sa/investor/dashboard</td>\n",
              "      <td>...</td>\n",
              "      <td>428.0</td>\n",
              "      <td>746.0</td>\n",
              "      <td>428.0</td>\n",
              "      <td>17:22:38</td>\n",
              "      <td>17:22:38</td>\n",
              "      <td>0.00</td>\n",
              "      <td>0.00</td>\n",
              "      <td>0.0</td>\n",
              "      <td>1.0</td>\n",
              "      <td>No</td>\n",
              "    </tr>\n",
              "    <tr>\n",
              "      <th>1281</th>\n",
              "      <td>1281.0</td>\n",
              "      <td>183364f15fc7c9-099efb199261fe8-3f62684b-fa000-...</td>\n",
              "      <td>pageview</td>\n",
              "      <td>183364f15fe15fc-008b08298a7f7a8-3f62684b-fa000...</td>\n",
              "      <td>Safari</td>\n",
              "      <td>Desktop</td>\n",
              "      <td>Mac OS X</td>\n",
              "      <td>company.sa</td>\n",
              "      <td>https//company.sa/investor/profile#</td>\n",
              "      <td>direct</td>\n",
              "      <td>...</td>\n",
              "      <td>1280.0</td>\n",
              "      <td>672.0</td>\n",
              "      <td>1280.0</td>\n",
              "      <td>10:04:56</td>\n",
              "      <td>10:23:47</td>\n",
              "      <td>0.31</td>\n",
              "      <td>18.85</td>\n",
              "      <td>1131.0</td>\n",
              "      <td>48.0</td>\n",
              "      <td>No</td>\n",
              "    </tr>\n",
              "    <tr>\n",
              "      <th>2402</th>\n",
              "      <td>2402.0</td>\n",
              "      <td>1833c48ee7fc69-0a16768604aecd-2a6d4933-60c28-1...</td>\n",
              "      <td>pageview</td>\n",
              "      <td>1833c48ee81130d-09bdc583c21063-2a6d4933-60c28-...</td>\n",
              "      <td>Mobile Safari</td>\n",
              "      <td>Mobile</td>\n",
              "      <td>iOS</td>\n",
              "      <td>company.sa</td>\n",
              "      <td>https//company.sa/investor/transactions</td>\n",
              "      <td>https//company.sa/investor/investment-portfolio</td>\n",
              "      <td>...</td>\n",
              "      <td>428.0</td>\n",
              "      <td>746.0</td>\n",
              "      <td>428.0</td>\n",
              "      <td>13:55:56</td>\n",
              "      <td>14:01:41</td>\n",
              "      <td>0.10</td>\n",
              "      <td>5.75</td>\n",
              "      <td>345.0</td>\n",
              "      <td>31.0</td>\n",
              "      <td>No</td>\n",
              "    </tr>\n",
              "    <tr>\n",
              "      <th>1915</th>\n",
              "      <td>1915.0</td>\n",
              "      <td>183380381077ee-04072a158d1a678-7c7f3363-4a574-...</td>\n",
              "      <td>pageleave</td>\n",
              "      <td>18338038109d27-0c53920ee5c39a-7c7f3363-4a574-1...</td>\n",
              "      <td>Mobile Safari</td>\n",
              "      <td>Mobile</td>\n",
              "      <td>iOS</td>\n",
              "      <td>company.sa</td>\n",
              "      <td>https//company.sa/investor/investment-portfolio</td>\n",
              "      <td>direct</td>\n",
              "      <td>...</td>\n",
              "      <td>375.0</td>\n",
              "      <td>635.0</td>\n",
              "      <td>375.0</td>\n",
              "      <td>18:01:37</td>\n",
              "      <td>18:01:37</td>\n",
              "      <td>0.00</td>\n",
              "      <td>0.00</td>\n",
              "      <td>0.0</td>\n",
              "      <td>1.0</td>\n",
              "      <td>No</td>\n",
              "    </tr>\n",
              "    <tr>\n",
              "      <th>1639</th>\n",
              "      <td>1639.0</td>\n",
              "      <td>18336d956ff5fd-0790cc1438c773-26021c51-14efd7-...</td>\n",
              "      <td>pageview</td>\n",
              "      <td>18336d9570211df-0d6e468aa34ef7-26021c51-14efd7...</td>\n",
              "      <td>Chrome</td>\n",
              "      <td>Desktop</td>\n",
              "      <td>Windows</td>\n",
              "      <td>company.sa</td>\n",
              "      <td>https//company.sa/investor/opportunity/Vn18</td>\n",
              "      <td>direct</td>\n",
              "      <td>...</td>\n",
              "      <td>1561.0</td>\n",
              "      <td>689.0</td>\n",
              "      <td>1562.0</td>\n",
              "      <td>12:35:56</td>\n",
              "      <td>12:50:58</td>\n",
              "      <td>0.25</td>\n",
              "      <td>15.03</td>\n",
              "      <td>902.0</td>\n",
              "      <td>2.0</td>\n",
              "      <td>No</td>\n",
              "    </tr>\n",
              "    <tr>\n",
              "      <th>2903</th>\n",
              "      <td>2903.0</td>\n",
              "      <td>18341b64834576-04cf7eab401c6f8-2a6d4c36-5a900-...</td>\n",
              "      <td>autocapture</td>\n",
              "      <td>18341b64836a25-0dcdd664dbea83-2a6d4c36-5a900-1...</td>\n",
              "      <td>Mobile Safari</td>\n",
              "      <td>Mobile</td>\n",
              "      <td>iOS</td>\n",
              "      <td>company.sa</td>\n",
              "      <td>https//company.sa/investor/investment-portfolio</td>\n",
              "      <td>direct</td>\n",
              "      <td>...</td>\n",
              "      <td>414.0</td>\n",
              "      <td>829.0</td>\n",
              "      <td>414.0</td>\n",
              "      <td>15:13:54</td>\n",
              "      <td>15:13:54</td>\n",
              "      <td>0.00</td>\n",
              "      <td>0.00</td>\n",
              "      <td>0.0</td>\n",
              "      <td>1.0</td>\n",
              "      <td>No</td>\n",
              "    </tr>\n",
              "    <tr>\n",
              "      <th>604</th>\n",
              "      <td>604.0</td>\n",
              "      <td>183354590cb40d-07c318447e28c6-4a6a0437-448e0-1...</td>\n",
              "      <td>pageview</td>\n",
              "      <td>183354590cd62e-0cc19310b2b1c4-4a6a0437-448e0-1...</td>\n",
              "      <td>Chrome</td>\n",
              "      <td>Mobile</td>\n",
              "      <td>Android</td>\n",
              "      <td>company.sa</td>\n",
              "      <td>https//company.sa/investor/investment-portfolio#</td>\n",
              "      <td>https//company.sa/investor/dashboard</td>\n",
              "      <td>...</td>\n",
              "      <td>360.0</td>\n",
              "      <td>716.0</td>\n",
              "      <td>360.0</td>\n",
              "      <td>5:14:55</td>\n",
              "      <td>5:15:26</td>\n",
              "      <td>0.01</td>\n",
              "      <td>0.52</td>\n",
              "      <td>31.0</td>\n",
              "      <td>12.0</td>\n",
              "      <td>No</td>\n",
              "    </tr>\n",
              "    <tr>\n",
              "      <th>485</th>\n",
              "      <td>485.0</td>\n",
              "      <td>18332a0f6bf48b-070e705a73fb6c-1457d75-505c8-18...</td>\n",
              "      <td>pageview</td>\n",
              "      <td>18332a0f6c11c30-0e23cca84594538-1457d75-505c8-...</td>\n",
              "      <td>Mobile Safari</td>\n",
              "      <td>Mobile</td>\n",
              "      <td>iOS</td>\n",
              "      <td>company.sa</td>\n",
              "      <td>https//company.sa/investor/opportunity/VX18</td>\n",
              "      <td>direct</td>\n",
              "      <td>...</td>\n",
              "      <td>390.0</td>\n",
              "      <td>664.0</td>\n",
              "      <td>390.0</td>\n",
              "      <td>16:55:53</td>\n",
              "      <td>16:55:53</td>\n",
              "      <td>0.00</td>\n",
              "      <td>0.00</td>\n",
              "      <td>0.0</td>\n",
              "      <td>1.0</td>\n",
              "      <td>No</td>\n",
              "    </tr>\n",
              "    <tr>\n",
              "      <th>1539</th>\n",
              "      <td>1539.0</td>\n",
              "      <td>18336a02db6bc0-070f8f32dbb8ea-26021c51-1fa400-...</td>\n",
              "      <td>pageleave</td>\n",
              "      <td>18336a02db8b20-02176abf1dac9d-26021c51-1fa400-...</td>\n",
              "      <td>Chrome</td>\n",
              "      <td>Desktop</td>\n",
              "      <td>Windows</td>\n",
              "      <td>company.sa</td>\n",
              "      <td>https//company.sa/investor/transactions/detail...</td>\n",
              "      <td>https//company.sa/investor/investment/Vn17/for...</td>\n",
              "      <td>...</td>\n",
              "      <td>1920.0</td>\n",
              "      <td>961.0</td>\n",
              "      <td>1920.0</td>\n",
              "      <td>11:33:30</td>\n",
              "      <td>11:33:30</td>\n",
              "      <td>0.00</td>\n",
              "      <td>0.00</td>\n",
              "      <td>0.0</td>\n",
              "      <td>1.0</td>\n",
              "      <td>Maybe</td>\n",
              "    </tr>\n",
              "    <tr>\n",
              "      <th>2154</th>\n",
              "      <td>2154.0</td>\n",
              "      <td>1833af8927e767-0a3d03623e07ca-78565475-100200-...</td>\n",
              "      <td>pageview</td>\n",
              "      <td>1833af89280a44-0dc8d0964c4cc7-78565475-100200-...</td>\n",
              "      <td>Microsoft Edge</td>\n",
              "      <td>Desktop</td>\n",
              "      <td>Windows</td>\n",
              "      <td>company.sa</td>\n",
              "      <td>https//company.sa/entrepreneur/entrepreneur_da...</td>\n",
              "      <td>https//company.sa/entrepreneur/entrepreneur_da...</td>\n",
              "      <td>...</td>\n",
              "      <td>1366.0</td>\n",
              "      <td>657.0</td>\n",
              "      <td>1366.0</td>\n",
              "      <td>7:48:32</td>\n",
              "      <td>8:58:47</td>\n",
              "      <td>1.17</td>\n",
              "      <td>70.25</td>\n",
              "      <td>4215.0</td>\n",
              "      <td>233.0</td>\n",
              "      <td>No</td>\n",
              "    </tr>\n",
              "    <tr>\n",
              "      <th>2081</th>\n",
              "      <td>2081.0</td>\n",
              "      <td>1833a746d5d10d4-01873a369434b8-1457d75-4a574-1...</td>\n",
              "      <td>pageview</td>\n",
              "      <td>1833a746d5f23e0-0a8f535cd4885d-1457d75-4a574-1...</td>\n",
              "      <td>Mobile Safari</td>\n",
              "      <td>Mobile</td>\n",
              "      <td>iOS</td>\n",
              "      <td>company.sa</td>\n",
              "      <td>https//company.sa/investor/opportunity/Vn16</td>\n",
              "      <td>https//company.sa/investor/investment-portfolio</td>\n",
              "      <td>...</td>\n",
              "      <td>375.0</td>\n",
              "      <td>720.0</td>\n",
              "      <td>375.0</td>\n",
              "      <td>5:24:12</td>\n",
              "      <td>5:24:29</td>\n",
              "      <td>0.00</td>\n",
              "      <td>0.28</td>\n",
              "      <td>17.0</td>\n",
              "      <td>5.0</td>\n",
              "      <td>No</td>\n",
              "    </tr>\n",
              "    <tr>\n",
              "      <th>419</th>\n",
              "      <td>419.0</td>\n",
              "      <td>18331f8f4041ef-055fb31a5d27c6-1457d75-505c8-18...</td>\n",
              "      <td>pageleave</td>\n",
              "      <td>18331f8f4071508-0bce5a7048e8308-1457d75-505c8-...</td>\n",
              "      <td>Mobile Safari</td>\n",
              "      <td>Mobile</td>\n",
              "      <td>iOS</td>\n",
              "      <td>company.sa</td>\n",
              "      <td>https//company.sa/investor/opportunity/Vn18</td>\n",
              "      <td>https//company.sa/investor/investment-portfolio</td>\n",
              "      <td>...</td>\n",
              "      <td>390.0</td>\n",
              "      <td>664.0</td>\n",
              "      <td>390.0</td>\n",
              "      <td>13:52:22</td>\n",
              "      <td>13:52:22</td>\n",
              "      <td>0.00</td>\n",
              "      <td>0.00</td>\n",
              "      <td>0.0</td>\n",
              "      <td>1.0</td>\n",
              "      <td>No</td>\n",
              "    </tr>\n",
              "    <tr>\n",
              "      <th>1876</th>\n",
              "      <td>1876.0</td>\n",
              "      <td>18337d14533e0e-0521778b574668-296e4f35-505c8-1...</td>\n",
              "      <td>pageview</td>\n",
              "      <td>18337d1453510ee-069c7add3ef65e8-296e4f35-505c8...</td>\n",
              "      <td>Mobile Safari</td>\n",
              "      <td>Mobile</td>\n",
              "      <td>iOS</td>\n",
              "      <td>company.sa</td>\n",
              "      <td>https//company.sa/investor/transactions</td>\n",
              "      <td>https//company.sa/investor/opportunity/Vn18</td>\n",
              "      <td>...</td>\n",
              "      <td>390.0</td>\n",
              "      <td>745.0</td>\n",
              "      <td>390.0</td>\n",
              "      <td>17:06:45</td>\n",
              "      <td>17:11:53</td>\n",
              "      <td>0.09</td>\n",
              "      <td>5.13</td>\n",
              "      <td>308.0</td>\n",
              "      <td>17.0</td>\n",
              "      <td>No</td>\n",
              "    </tr>\n",
              "  </tbody>\n",
              "</table>\n",
              "<p>15 rows × 40 columns</p>\n",
              "</div>\n",
              "      <button class=\"colab-df-convert\" onclick=\"convertToInteractive('df-e64b9caa-9e4d-4f80-bf6c-76ff724f6015')\"\n",
              "              title=\"Convert this dataframe to an interactive table.\"\n",
              "              style=\"display:none;\">\n",
              "        \n",
              "  <svg xmlns=\"http://www.w3.org/2000/svg\" height=\"24px\"viewBox=\"0 0 24 24\"\n",
              "       width=\"24px\">\n",
              "    <path d=\"M0 0h24v24H0V0z\" fill=\"none\"/>\n",
              "    <path d=\"M18.56 5.44l.94 2.06.94-2.06 2.06-.94-2.06-.94-.94-2.06-.94 2.06-2.06.94zm-11 1L8.5 8.5l.94-2.06 2.06-.94-2.06-.94L8.5 2.5l-.94 2.06-2.06.94zm10 10l.94 2.06.94-2.06 2.06-.94-2.06-.94-.94-2.06-.94 2.06-2.06.94z\"/><path d=\"M17.41 7.96l-1.37-1.37c-.4-.4-.92-.59-1.43-.59-.52 0-1.04.2-1.43.59L10.3 9.45l-7.72 7.72c-.78.78-.78 2.05 0 2.83L4 21.41c.39.39.9.59 1.41.59.51 0 1.02-.2 1.41-.59l7.78-7.78 2.81-2.81c.8-.78.8-2.07 0-2.86zM5.41 20L4 18.59l7.72-7.72 1.47 1.35L5.41 20z\"/>\n",
              "  </svg>\n",
              "      </button>\n",
              "      \n",
              "  <style>\n",
              "    .colab-df-container {\n",
              "      display:flex;\n",
              "      flex-wrap:wrap;\n",
              "      gap: 12px;\n",
              "    }\n",
              "\n",
              "    .colab-df-convert {\n",
              "      background-color: #E8F0FE;\n",
              "      border: none;\n",
              "      border-radius: 50%;\n",
              "      cursor: pointer;\n",
              "      display: none;\n",
              "      fill: #1967D2;\n",
              "      height: 32px;\n",
              "      padding: 0 0 0 0;\n",
              "      width: 32px;\n",
              "    }\n",
              "\n",
              "    .colab-df-convert:hover {\n",
              "      background-color: #E2EBFA;\n",
              "      box-shadow: 0px 1px 2px rgba(60, 64, 67, 0.3), 0px 1px 3px 1px rgba(60, 64, 67, 0.15);\n",
              "      fill: #174EA6;\n",
              "    }\n",
              "\n",
              "    [theme=dark] .colab-df-convert {\n",
              "      background-color: #3B4455;\n",
              "      fill: #D2E3FC;\n",
              "    }\n",
              "\n",
              "    [theme=dark] .colab-df-convert:hover {\n",
              "      background-color: #434B5C;\n",
              "      box-shadow: 0px 1px 3px 1px rgba(0, 0, 0, 0.15);\n",
              "      filter: drop-shadow(0px 1px 2px rgba(0, 0, 0, 0.3));\n",
              "      fill: #FFFFFF;\n",
              "    }\n",
              "  </style>\n",
              "\n",
              "      <script>\n",
              "        const buttonEl =\n",
              "          document.querySelector('#df-e64b9caa-9e4d-4f80-bf6c-76ff724f6015 button.colab-df-convert');\n",
              "        buttonEl.style.display =\n",
              "          google.colab.kernel.accessAllowed ? 'block' : 'none';\n",
              "\n",
              "        async function convertToInteractive(key) {\n",
              "          const element = document.querySelector('#df-e64b9caa-9e4d-4f80-bf6c-76ff724f6015');\n",
              "          const dataTable =\n",
              "            await google.colab.kernel.invokeFunction('convertToInteractive',\n",
              "                                                     [key], {});\n",
              "          if (!dataTable) return;\n",
              "\n",
              "          const docLinkHtml = 'Like what you see? Visit the ' +\n",
              "            '<a target=\"_blank\" href=https://colab.research.google.com/notebooks/data_table.ipynb>data table notebook</a>'\n",
              "            + ' to learn more about interactive tables.';\n",
              "          element.innerHTML = '';\n",
              "          dataTable['output_type'] = 'display_data';\n",
              "          await google.colab.output.renderOutput(dataTable, element);\n",
              "          const docLink = document.createElement('div');\n",
              "          docLink.innerHTML = docLinkHtml;\n",
              "          element.appendChild(docLink);\n",
              "        }\n",
              "      </script>\n",
              "    </div>\n",
              "  </div>\n",
              "  "
            ]
          },
          "metadata": {},
          "execution_count": 70
        }
      ]
    },
    {
      "cell_type": "code",
      "execution_count": null,
      "metadata": {
        "colab": {
          "base_uri": "https://localhost:8080/"
        },
        "id": "gw-i84ZhlmcM",
        "outputId": "582876c2-a680-4488-90b9-21fc24bc873e"
      },
      "outputs": [
        {
          "output_type": "stream",
          "name": "stdout",
          "text": [
            "<class 'pandas.core.frame.DataFrame'>\n",
            "RangeIndex: 2950 entries, 0 to 2949\n",
            "Data columns (total 40 columns):\n",
            " #   Column            Non-Null Count  Dtype  \n",
            "---  ------            --------------  -----  \n",
            " 0   Unnamed: 0        2949 non-null   float64\n",
            " 1   session_id        2949 non-null   object \n",
            " 2   Type              2949 non-null   object \n",
            " 3   window_id         2949 non-null   object \n",
            " 4   browser           2949 non-null   object \n",
            " 5   device_type       2949 non-null   object \n",
            " 6   os                2949 non-null   object \n",
            " 7   host              2949 non-null   object \n",
            " 8   current_url       2949 non-null   object \n",
            " 9   referrer          2949 non-null   object \n",
            " 10  referring_domain  2949 non-null   object \n",
            " 11  pathname          2949 non-null   object \n",
            " 12  path1             2949 non-null   object \n",
            " 13  path2             2949 non-null   object \n",
            " 14  path3             2949 non-null   object \n",
            " 15  path4             2949 non-null   object \n",
            " 16  path5             2949 non-null   object \n",
            " 17  number_of_pages   2949 non-null   float64\n",
            " 18  event_type        2949 non-null   object \n",
            " 19  date              2949 non-null   object \n",
            " 20  year              2949 non-null   float64\n",
            " 21  month             2949 non-null   float64\n",
            " 22  day               2949 non-null   float64\n",
            " 23  month_name        2949 non-null   object \n",
            " 24  day_name          2949 non-null   object \n",
            " 25  week_label        2949 non-null   object \n",
            " 26  time              2949 non-null   object \n",
            " 27  day_parts         2949 non-null   object \n",
            " 28  browser_version   2949 non-null   float64\n",
            " 29  screen_height     2949 non-null   float64\n",
            " 30  screen_width      2949 non-null   float64\n",
            " 31  viewport_height   2949 non-null   float64\n",
            " 32  viewport_width    2949 non-null   float64\n",
            " 33  min_time          2949 non-null   object \n",
            " 34  max_time          2949 non-null   object \n",
            " 35  duration_hours    2949 non-null   float64\n",
            " 36  duration_minutes  2949 non-null   float64\n",
            " 37  duration_seconds  2949 non-null   float64\n",
            " 38  total_pages       2949 non-null   float64\n",
            " 39  invest            2949 non-null   object \n",
            "dtypes: float64(14), object(26)\n",
            "memory usage: 922.0+ KB\n"
          ]
        }
      ],
      "source": [
        "df.info()"
      ]
    },
    {
      "cell_type": "code",
      "execution_count": null,
      "metadata": {
        "id": "LD7Trm4WlmcN"
      },
      "outputs": [],
      "source": [
        "# 1. Removing ID's becuase they're unique and we dont need them \n",
        "# 2. keeping only the referrer domain since it has only four values instead of multiple possibilities \n",
        "#    removing current URL and pathname since they represent the same value\n",
        "# 3. our dataset is based on one week only, thus, month, date, and year are not needed, we'll drop them \n",
        "#    day has the same value as day name but encoded so, we'll keep only one of them \n",
        "# 4. removing time because we have derived column (Duration in minutes), also duration in seconds and hours \n",
        "# 5. since we have the device type, we dont need ('screen_height','screen_width','viewport_height','viewport_width',)\n",
        "# 6. removing host, becuse we only have three variations, and two of these variations have only 2 values per variation (doesnt contribute a lot to our analysis and we'll just create noise)\n",
        "#    removing 'number_of_pages', 'path4','path5' --> data leakage\n",
        "\n",
        "df.drop(['Unnamed: 0','session_id','window_id','host','referring_domain','browser_version','time',\n",
        "        'year','date','month','month_name','screen_height','screen_width','viewport_height','viewport_width',\n",
        "        'min_time','max_time','duration_hours','duration_seconds','pathname','current_url',\n",
        "        'referrer','referring_domain', 'number_of_pages','path4' ,'path5'], inplace=True, axis=1)\n"
      ]
    },
    {
      "cell_type": "code",
      "execution_count": null,
      "metadata": {
        "colab": {
          "base_uri": "https://localhost:8080/"
        },
        "id": "7Pf1-OwWlmcN",
        "outputId": "188ba6a7-1718-43fa-e71d-c834acbc1489"
      },
      "outputs": [
        {
          "output_type": "stream",
          "name": "stdout",
          "text": [
            "<class 'pandas.core.frame.DataFrame'>\n",
            "RangeIndex: 2950 entries, 0 to 2949\n",
            "Data columns (total 15 columns):\n",
            " #   Column            Non-Null Count  Dtype  \n",
            "---  ------            --------------  -----  \n",
            " 0   Type              2949 non-null   object \n",
            " 1   browser           2949 non-null   object \n",
            " 2   device_type       2949 non-null   object \n",
            " 3   os                2949 non-null   object \n",
            " 4   path1             2949 non-null   object \n",
            " 5   path2             2949 non-null   object \n",
            " 6   path3             2949 non-null   object \n",
            " 7   event_type        2949 non-null   object \n",
            " 8   day               2949 non-null   float64\n",
            " 9   day_name          2949 non-null   object \n",
            " 10  week_label        2949 non-null   object \n",
            " 11  day_parts         2949 non-null   object \n",
            " 12  duration_minutes  2949 non-null   float64\n",
            " 13  total_pages       2949 non-null   float64\n",
            " 14  invest            2949 non-null   object \n",
            "dtypes: float64(3), object(12)\n",
            "memory usage: 345.8+ KB\n"
          ]
        }
      ],
      "source": [
        "df.info()"
      ]
    },
    {
      "cell_type": "code",
      "execution_count": null,
      "metadata": {
        "colab": {
          "base_uri": "https://localhost:8080/"
        },
        "id": "I2dO8xzklmcN",
        "outputId": "dcac670a-5fcf-4b2d-de45-ba4e9ed93abb"
      },
      "outputs": [
        {
          "output_type": "stream",
          "name": "stdout",
          "text": [
            "Dataset columns' values and type:\n",
            "–––––––––––––––––––––––––––––––––––––––––––––––––––––\n",
            "Column (Type) Value counts are:\n",
            "pageview       2536\n",
            "pageleave       299\n",
            "autocapture     114\n",
            "Name: Type, dtype: int64\n",
            "–––––––––––––––––––––––––––––––––––––––––––––––––––––\n",
            "Column (browser) Value counts are:\n",
            "Mobile Safari       1463\n",
            "Chrome              1020\n",
            "Chrome iOS           167\n",
            "Samsung Internet      97\n",
            "Safari                85\n",
            "Microsoft Edge        74\n",
            "Firefox               22\n",
            "Android Mobile        21\n",
            "Name: browser, dtype: int64\n",
            "–––––––––––––––––––––––––––––––––––––––––––––––––––––\n",
            "Column (device_type) Value counts are:\n",
            "Mobile     2175\n",
            "Desktop     767\n",
            "Tablet        7\n",
            "Name: device_type, dtype: int64\n",
            "–––––––––––––––––––––––––––––––––––––––––––––––––––––\n",
            "Column (os) Value counts are:\n",
            "iOS          1630\n",
            "Windows       575\n",
            "Android       549\n",
            "Mac OS X      185\n",
            "Linux           9\n",
            "Chrome OS       1\n",
            "Name: os, dtype: int64\n",
            "–––––––––––––––––––––––––––––––––––––––––––––––––––––\n",
            "Column (path1) Value counts are:\n",
            "investor                2731\n",
            "entrepreneur             155\n",
            "support                   53\n",
            "auth                       8\n",
            "sign-document-public       2\n",
            "Name: path1, dtype: int64\n",
            "–––––––––––––––––––––––––––––––––––––––––––––––––––––\n",
            "Column (path2) Value counts are:\n",
            "opportunity                    1088\n",
            "transactions                    844\n",
            "investment-portfolio            525\n",
            "profile                         123\n",
            "settings                        112\n",
            "dashboard                        55\n",
            "owner_consent_form               38\n",
            "onboarding                       33\n",
            "entrepreneur_dashboard           25\n",
            "investment                       18\n",
            "profile-review                   16\n",
            "user                             14\n",
            "company-information              14\n",
            "mobile-number                    13\n",
            "tasks                            12\n",
            "company_financing_requests        9\n",
            "document-update                   5\n",
            "ticket_details                    2\n",
            "VX98eA                            1\n",
            "investor                          1\n",
            "entrepreneur-repayment-plan       1\n",
            "Name: path2, dtype: int64\n",
            "–––––––––––––––––––––––––––––––––––––––––––––––––––––\n",
            "Column (path3) Value counts are:\n",
            "                                                                                                       882\n",
            "Vn18                                                                                                   691\n",
            "detail                                                                                                 591\n",
            "Vn16                                                                                                   145\n",
            "Vn17                                                                                                   116\n",
            "                                                                                                      ... \n",
            "Vn13                                                                                                     1\n",
            "WIU                                                                                                      1\n",
            "VX14                                                                                                     1\n",
            "RsiiY4mZy5SGtby1x4h_aHx7Z2hpYIZIzZyTib-lr4-OukZfo2WIkFlTeniBZ2NqkExSukeUm7urs4WczZuEsKeygF5WdnN-slM      1\n",
            "Rn53cVhdjldZfnd4                                                                                         1\n",
            "Name: path3, Length: 82, dtype: int64\n",
            "–––––––––––––––––––––––––––––––––––––––––––––––––––––\n",
            "Column (event_type) Value counts are:\n",
            "no action    2596\n",
            "submit        245\n",
            "click         108\n",
            "Name: event_type, dtype: int64\n",
            "–––––––––––––––––––––––––––––––––––––––––––––––––––––\n",
            "Column (day) Value counts are:\n",
            "13.0    1442\n",
            "14.0     807\n",
            "12.0     582\n",
            "15.0     113\n",
            "11.0       2\n",
            "8.0        1\n",
            "9.0        1\n",
            "10.0       1\n",
            "Name: day, dtype: int64\n",
            "–––––––––––––––––––––––––––––––––––––––––––––––––––––\n",
            "Column (day_name) Value counts are:\n",
            "Tuesday      1442\n",
            "Wednesday     807\n",
            "Monday        582\n",
            "Thursday      114\n",
            "Sunday          2\n",
            "Friday          1\n",
            "Saturday        1\n",
            "Name: day_name, dtype: int64\n",
            "–––––––––––––––––––––––––––––––––––––––––––––––––––––\n",
            "Column (week_label) Value counts are:\n",
            "Weekend    2140\n",
            "Weekday     809\n",
            "Name: week_label, dtype: int64\n",
            "–––––––––––––––––––––––––––––––––––––––––––––––––––––\n",
            "Column (day_parts) Value counts are:\n",
            "Morning        1471\n",
            "Evening         636\n",
            "Night           420\n",
            "During work     380\n",
            "Launch hour      42\n",
            "Name: day_parts, dtype: int64\n",
            "–––––––––––––––––––––––––––––––––––––––––––––––––––––\n",
            "Column (duration_minutes) Value counts are:\n",
            "0.00      478\n",
            "0.02       29\n",
            "0.03       21\n",
            "0.52       14\n",
            "0.83       14\n",
            "         ... \n",
            "9.88        1\n",
            "118.13      1\n",
            "43.88       1\n",
            "41.68       1\n",
            "33.25       1\n",
            "Name: duration_minutes, Length: 1167, dtype: int64\n",
            "–––––––––––––––––––––––––––––––––––––––––––––––––––––\n",
            "Column (total_pages) Value counts are:\n",
            "1.0      472\n",
            "2.0      143\n",
            "5.0      113\n",
            "3.0      101\n",
            "6.0       96\n",
            "        ... \n",
            "346.0      1\n",
            "229.0      1\n",
            "230.0      1\n",
            "158.0      1\n",
            "180.0      1\n",
            "Name: total_pages, Length: 213, dtype: int64\n",
            "–––––––––––––––––––––––––––––––––––––––––––––––––––––\n",
            "Column (invest) Value counts are:\n",
            "No       2339\n",
            "Yes       499\n",
            "Maybe     111\n",
            "Name: invest, dtype: int64\n"
          ]
        }
      ],
      "source": [
        "# Since we have 12 culomn, it will be waste of time if i calculate the value counts for each one of them. \n",
        "# Instead, I used for loop the calculate the value counts for all the culomns in the dataframe.\n",
        "print(\"Dataset columns' values and type:\")\n",
        "for x in df:\n",
        "    print(\"–––––––––––––––––––––––––––––––––––––––––––––––––––––\")\n",
        "    print(f\"Column ({x}) Value counts are:\")\n",
        "    print(df[x].value_counts())"
      ]
    },
    {
      "cell_type": "code",
      "execution_count": null,
      "metadata": {
        "colab": {
          "base_uri": "https://localhost:8080/",
          "height": 426
        },
        "id": "dcYeJLfWlmcO",
        "outputId": "315c38d4-379a-42c2-e38f-987694703009"
      },
      "outputs": [
        {
          "output_type": "execute_result",
          "data": {
            "text/plain": [
              "            count unique            top  freq\n",
              "Type         2949      3       pageview  2536\n",
              "browser      2949      8  Mobile Safari  1463\n",
              "device_type  2949      3         Mobile  2175\n",
              "os           2949      6            iOS  1630\n",
              "path1        2949      5       investor  2731\n",
              "path2        2949     21    opportunity  1088\n",
              "path3        2949     82                  882\n",
              "event_type   2949      3      no action  2596\n",
              "day_name     2949      7        Tuesday  1442\n",
              "week_label   2949      2        Weekend  2140\n",
              "day_parts    2949      5        Morning  1471\n",
              "invest       2949      3             No  2339"
            ],
            "text/html": [
              "\n",
              "  <div id=\"df-d7c2e228-613a-4de3-b421-b3ea5e365ae6\">\n",
              "    <div class=\"colab-df-container\">\n",
              "      <div>\n",
              "<style scoped>\n",
              "    .dataframe tbody tr th:only-of-type {\n",
              "        vertical-align: middle;\n",
              "    }\n",
              "\n",
              "    .dataframe tbody tr th {\n",
              "        vertical-align: top;\n",
              "    }\n",
              "\n",
              "    .dataframe thead th {\n",
              "        text-align: right;\n",
              "    }\n",
              "</style>\n",
              "<table border=\"1\" class=\"dataframe\">\n",
              "  <thead>\n",
              "    <tr style=\"text-align: right;\">\n",
              "      <th></th>\n",
              "      <th>count</th>\n",
              "      <th>unique</th>\n",
              "      <th>top</th>\n",
              "      <th>freq</th>\n",
              "    </tr>\n",
              "  </thead>\n",
              "  <tbody>\n",
              "    <tr>\n",
              "      <th>Type</th>\n",
              "      <td>2949</td>\n",
              "      <td>3</td>\n",
              "      <td>pageview</td>\n",
              "      <td>2536</td>\n",
              "    </tr>\n",
              "    <tr>\n",
              "      <th>browser</th>\n",
              "      <td>2949</td>\n",
              "      <td>8</td>\n",
              "      <td>Mobile Safari</td>\n",
              "      <td>1463</td>\n",
              "    </tr>\n",
              "    <tr>\n",
              "      <th>device_type</th>\n",
              "      <td>2949</td>\n",
              "      <td>3</td>\n",
              "      <td>Mobile</td>\n",
              "      <td>2175</td>\n",
              "    </tr>\n",
              "    <tr>\n",
              "      <th>os</th>\n",
              "      <td>2949</td>\n",
              "      <td>6</td>\n",
              "      <td>iOS</td>\n",
              "      <td>1630</td>\n",
              "    </tr>\n",
              "    <tr>\n",
              "      <th>path1</th>\n",
              "      <td>2949</td>\n",
              "      <td>5</td>\n",
              "      <td>investor</td>\n",
              "      <td>2731</td>\n",
              "    </tr>\n",
              "    <tr>\n",
              "      <th>path2</th>\n",
              "      <td>2949</td>\n",
              "      <td>21</td>\n",
              "      <td>opportunity</td>\n",
              "      <td>1088</td>\n",
              "    </tr>\n",
              "    <tr>\n",
              "      <th>path3</th>\n",
              "      <td>2949</td>\n",
              "      <td>82</td>\n",
              "      <td></td>\n",
              "      <td>882</td>\n",
              "    </tr>\n",
              "    <tr>\n",
              "      <th>event_type</th>\n",
              "      <td>2949</td>\n",
              "      <td>3</td>\n",
              "      <td>no action</td>\n",
              "      <td>2596</td>\n",
              "    </tr>\n",
              "    <tr>\n",
              "      <th>day_name</th>\n",
              "      <td>2949</td>\n",
              "      <td>7</td>\n",
              "      <td>Tuesday</td>\n",
              "      <td>1442</td>\n",
              "    </tr>\n",
              "    <tr>\n",
              "      <th>week_label</th>\n",
              "      <td>2949</td>\n",
              "      <td>2</td>\n",
              "      <td>Weekend</td>\n",
              "      <td>2140</td>\n",
              "    </tr>\n",
              "    <tr>\n",
              "      <th>day_parts</th>\n",
              "      <td>2949</td>\n",
              "      <td>5</td>\n",
              "      <td>Morning</td>\n",
              "      <td>1471</td>\n",
              "    </tr>\n",
              "    <tr>\n",
              "      <th>invest</th>\n",
              "      <td>2949</td>\n",
              "      <td>3</td>\n",
              "      <td>No</td>\n",
              "      <td>2339</td>\n",
              "    </tr>\n",
              "  </tbody>\n",
              "</table>\n",
              "</div>\n",
              "      <button class=\"colab-df-convert\" onclick=\"convertToInteractive('df-d7c2e228-613a-4de3-b421-b3ea5e365ae6')\"\n",
              "              title=\"Convert this dataframe to an interactive table.\"\n",
              "              style=\"display:none;\">\n",
              "        \n",
              "  <svg xmlns=\"http://www.w3.org/2000/svg\" height=\"24px\"viewBox=\"0 0 24 24\"\n",
              "       width=\"24px\">\n",
              "    <path d=\"M0 0h24v24H0V0z\" fill=\"none\"/>\n",
              "    <path d=\"M18.56 5.44l.94 2.06.94-2.06 2.06-.94-2.06-.94-.94-2.06-.94 2.06-2.06.94zm-11 1L8.5 8.5l.94-2.06 2.06-.94-2.06-.94L8.5 2.5l-.94 2.06-2.06.94zm10 10l.94 2.06.94-2.06 2.06-.94-2.06-.94-.94-2.06-.94 2.06-2.06.94z\"/><path d=\"M17.41 7.96l-1.37-1.37c-.4-.4-.92-.59-1.43-.59-.52 0-1.04.2-1.43.59L10.3 9.45l-7.72 7.72c-.78.78-.78 2.05 0 2.83L4 21.41c.39.39.9.59 1.41.59.51 0 1.02-.2 1.41-.59l7.78-7.78 2.81-2.81c.8-.78.8-2.07 0-2.86zM5.41 20L4 18.59l7.72-7.72 1.47 1.35L5.41 20z\"/>\n",
              "  </svg>\n",
              "      </button>\n",
              "      \n",
              "  <style>\n",
              "    .colab-df-container {\n",
              "      display:flex;\n",
              "      flex-wrap:wrap;\n",
              "      gap: 12px;\n",
              "    }\n",
              "\n",
              "    .colab-df-convert {\n",
              "      background-color: #E8F0FE;\n",
              "      border: none;\n",
              "      border-radius: 50%;\n",
              "      cursor: pointer;\n",
              "      display: none;\n",
              "      fill: #1967D2;\n",
              "      height: 32px;\n",
              "      padding: 0 0 0 0;\n",
              "      width: 32px;\n",
              "    }\n",
              "\n",
              "    .colab-df-convert:hover {\n",
              "      background-color: #E2EBFA;\n",
              "      box-shadow: 0px 1px 2px rgba(60, 64, 67, 0.3), 0px 1px 3px 1px rgba(60, 64, 67, 0.15);\n",
              "      fill: #174EA6;\n",
              "    }\n",
              "\n",
              "    [theme=dark] .colab-df-convert {\n",
              "      background-color: #3B4455;\n",
              "      fill: #D2E3FC;\n",
              "    }\n",
              "\n",
              "    [theme=dark] .colab-df-convert:hover {\n",
              "      background-color: #434B5C;\n",
              "      box-shadow: 0px 1px 3px 1px rgba(0, 0, 0, 0.15);\n",
              "      filter: drop-shadow(0px 1px 2px rgba(0, 0, 0, 0.3));\n",
              "      fill: #FFFFFF;\n",
              "    }\n",
              "  </style>\n",
              "\n",
              "      <script>\n",
              "        const buttonEl =\n",
              "          document.querySelector('#df-d7c2e228-613a-4de3-b421-b3ea5e365ae6 button.colab-df-convert');\n",
              "        buttonEl.style.display =\n",
              "          google.colab.kernel.accessAllowed ? 'block' : 'none';\n",
              "\n",
              "        async function convertToInteractive(key) {\n",
              "          const element = document.querySelector('#df-d7c2e228-613a-4de3-b421-b3ea5e365ae6');\n",
              "          const dataTable =\n",
              "            await google.colab.kernel.invokeFunction('convertToInteractive',\n",
              "                                                     [key], {});\n",
              "          if (!dataTable) return;\n",
              "\n",
              "          const docLinkHtml = 'Like what you see? Visit the ' +\n",
              "            '<a target=\"_blank\" href=https://colab.research.google.com/notebooks/data_table.ipynb>data table notebook</a>'\n",
              "            + ' to learn more about interactive tables.';\n",
              "          element.innerHTML = '';\n",
              "          dataTable['output_type'] = 'display_data';\n",
              "          await google.colab.output.renderOutput(dataTable, element);\n",
              "          const docLink = document.createElement('div');\n",
              "          docLink.innerHTML = docLinkHtml;\n",
              "          element.appendChild(docLink);\n",
              "        }\n",
              "      </script>\n",
              "    </div>\n",
              "  </div>\n",
              "  "
            ]
          },
          "metadata": {},
          "execution_count": 75
        }
      ],
      "source": [
        "df.describe(include=object).T"
      ]
    },
    {
      "cell_type": "code",
      "execution_count": null,
      "metadata": {
        "colab": {
          "base_uri": "https://localhost:8080/"
        },
        "id": "xM3205dJlmcO",
        "outputId": "669bef59-7f02-47f0-90b0-efd3f847ee03"
      },
      "outputs": [
        {
          "output_type": "execute_result",
          "data": {
            "text/plain": [
              "No       0.79315\n",
              "Yes      0.16921\n",
              "Maybe    0.03764\n",
              "Name: invest, dtype: float64"
            ]
          },
          "metadata": {},
          "execution_count": 76
        }
      ],
      "source": [
        "df.invest.value_counts(normalize = True)\n",
        "\n",
        "# Baseline --> is Zero --> would be accurate by = 79%\n",
        "# Whenever I build a model it needs to be more accurate than 79%"
      ]
    },
    {
      "cell_type": "markdown",
      "metadata": {
        "id": "_JFub4PEDY9S"
      },
      "source": [
        "### 3. Feature Engineering"
      ]
    },
    {
      "cell_type": "code",
      "execution_count": null,
      "metadata": {
        "id": "uDzt42hAu9uD"
      },
      "outputs": [],
      "source": [
        "# Making a copy to keep original data in its form intact\n",
        "df_enc = df.copy()"
      ]
    },
    {
      "cell_type": "code",
      "execution_count": null,
      "metadata": {
        "colab": {
          "base_uri": "https://localhost:8080/"
        },
        "id": "883_YfcHlmcP",
        "outputId": "f8fb397b-8c6d-4f27-986e-41f95de13ae8"
      },
      "outputs": [
        {
          "output_type": "execute_result",
          "data": {
            "text/plain": [
              "Type                1\n",
              "browser             1\n",
              "device_type         1\n",
              "os                  1\n",
              "path1               1\n",
              "path2               1\n",
              "path3               1\n",
              "event_type          1\n",
              "day                 1\n",
              "day_name            1\n",
              "week_label          1\n",
              "day_parts           1\n",
              "duration_minutes    1\n",
              "total_pages         1\n",
              "invest              1\n",
              "dtype: int64"
            ]
          },
          "metadata": {},
          "execution_count": 78
        }
      ],
      "source": [
        "#Ckedcing for NaN's \n",
        "df_enc.isnull().sum()"
      ]
    },
    {
      "cell_type": "code",
      "execution_count": null,
      "metadata": {
        "id": "1I5fruTOlmcP"
      },
      "outputs": [],
      "source": [
        "#Dropping NaN's from the dataset\n",
        "df_enc.dropna(inplace=True)"
      ]
    },
    {
      "cell_type": "code",
      "execution_count": null,
      "metadata": {
        "colab": {
          "base_uri": "https://localhost:8080/"
        },
        "id": "tuPpXH-ClmcP",
        "outputId": "45f0f7e0-71c6-4647-cec1-35a70be5a99f"
      },
      "outputs": [
        {
          "output_type": "execute_result",
          "data": {
            "text/plain": [
              "Type                0\n",
              "browser             0\n",
              "device_type         0\n",
              "os                  0\n",
              "path1               0\n",
              "path2               0\n",
              "path3               0\n",
              "event_type          0\n",
              "day                 0\n",
              "day_name            0\n",
              "week_label          0\n",
              "day_parts           0\n",
              "duration_minutes    0\n",
              "total_pages         0\n",
              "invest              0\n",
              "dtype: int64"
            ]
          },
          "metadata": {},
          "execution_count": 80
        }
      ],
      "source": [
        "#Double-check\n",
        "df_enc.isnull().sum()"
      ]
    },
    {
      "cell_type": "markdown",
      "metadata": {
        "id": "6_mnJ2-Ou9uD"
      },
      "source": [
        "####  1. Label Enconding: "
      ]
    },
    {
      "cell_type": "code",
      "execution_count": null,
      "metadata": {
        "id": "-DuEOwvtlmcP"
      },
      "outputs": [],
      "source": [
        "#Encode all of the categorical columns using \"Label Encoder\". \n",
        "columns = ['week_label', 'Type','browser', 'device_type', 'os', 'day_parts','event_type','day_name','path1', 'path2', 'path3']\n",
        "\n",
        "le = LabelEncoder()\n",
        "for column in columns:\n",
        "    df_enc[column] = le.fit_transform(df_enc[column])"
      ]
    },
    {
      "cell_type": "code",
      "execution_count": null,
      "metadata": {
        "id": "h6k4XNgolmcQ"
      },
      "outputs": [],
      "source": [
        "#Mapping the terget column: invest into 3 possible numeric values:\n",
        "#No --> 0, Yes --> 1, Maybe --> 2\n",
        "df_enc['invest'] = df_enc['invest'].map({'No':0,'Yes':1,'Maybe':2})"
      ]
    },
    {
      "cell_type": "code",
      "execution_count": null,
      "metadata": {
        "colab": {
          "base_uri": "https://localhost:8080/"
        },
        "id": "_4u-jA7ZlmcQ",
        "outputId": "96fcbf96-74b4-4b9d-f6f3-2c72ac6005b6"
      },
      "outputs": [
        {
          "output_type": "execute_result",
          "data": {
            "text/plain": [
              "0    2339\n",
              "1     499\n",
              "2     111\n",
              "Name: invest, dtype: int64"
            ]
          },
          "metadata": {},
          "execution_count": 83
        }
      ],
      "source": [
        "#Ckecking after the mapping process:\n",
        "df_enc.invest.value_counts()"
      ]
    },
    {
      "cell_type": "code",
      "execution_count": null,
      "metadata": {
        "colab": {
          "base_uri": "https://localhost:8080/",
          "height": 206
        },
        "id": "OlsRA0WzlmcQ",
        "outputId": "a13ed329-83da-482e-9170-cb310fb424e9"
      },
      "outputs": [
        {
          "output_type": "execute_result",
          "data": {
            "text/plain": [
              "   Type  browser  device_type  os  path1  path2  path3  event_type   day  \\\n",
              "0     2        1            0   4      4     12     78           1   8.0   \n",
              "1     2        1            0   4      2     12     57           1   9.0   \n",
              "2     2        1            0   4      2     19     52           1  10.0   \n",
              "3     2        1            0   4      2     19     59           1  11.0   \n",
              "4     2        1            0   3      2      3      0           1  11.0   \n",
              "\n",
              "   day_name  week_label  day_parts  duration_minutes  total_pages  invest  \n",
              "0         4           1          1             22.17         28.0       0  \n",
              "1         0           1          4              9.88          2.0       0  \n",
              "2         2           1          1             47.72         25.0       0  \n",
              "3         3           0          0             42.32         24.0       0  \n",
              "4         3           0          0              0.62          2.0       0  "
            ],
            "text/html": [
              "\n",
              "  <div id=\"df-95fa0bf3-ffa4-4d46-b44f-f01fd37676ac\">\n",
              "    <div class=\"colab-df-container\">\n",
              "      <div>\n",
              "<style scoped>\n",
              "    .dataframe tbody tr th:only-of-type {\n",
              "        vertical-align: middle;\n",
              "    }\n",
              "\n",
              "    .dataframe tbody tr th {\n",
              "        vertical-align: top;\n",
              "    }\n",
              "\n",
              "    .dataframe thead th {\n",
              "        text-align: right;\n",
              "    }\n",
              "</style>\n",
              "<table border=\"1\" class=\"dataframe\">\n",
              "  <thead>\n",
              "    <tr style=\"text-align: right;\">\n",
              "      <th></th>\n",
              "      <th>Type</th>\n",
              "      <th>browser</th>\n",
              "      <th>device_type</th>\n",
              "      <th>os</th>\n",
              "      <th>path1</th>\n",
              "      <th>path2</th>\n",
              "      <th>path3</th>\n",
              "      <th>event_type</th>\n",
              "      <th>day</th>\n",
              "      <th>day_name</th>\n",
              "      <th>week_label</th>\n",
              "      <th>day_parts</th>\n",
              "      <th>duration_minutes</th>\n",
              "      <th>total_pages</th>\n",
              "      <th>invest</th>\n",
              "    </tr>\n",
              "  </thead>\n",
              "  <tbody>\n",
              "    <tr>\n",
              "      <th>0</th>\n",
              "      <td>2</td>\n",
              "      <td>1</td>\n",
              "      <td>0</td>\n",
              "      <td>4</td>\n",
              "      <td>4</td>\n",
              "      <td>12</td>\n",
              "      <td>78</td>\n",
              "      <td>1</td>\n",
              "      <td>8.0</td>\n",
              "      <td>4</td>\n",
              "      <td>1</td>\n",
              "      <td>1</td>\n",
              "      <td>22.17</td>\n",
              "      <td>28.0</td>\n",
              "      <td>0</td>\n",
              "    </tr>\n",
              "    <tr>\n",
              "      <th>1</th>\n",
              "      <td>2</td>\n",
              "      <td>1</td>\n",
              "      <td>0</td>\n",
              "      <td>4</td>\n",
              "      <td>2</td>\n",
              "      <td>12</td>\n",
              "      <td>57</td>\n",
              "      <td>1</td>\n",
              "      <td>9.0</td>\n",
              "      <td>0</td>\n",
              "      <td>1</td>\n",
              "      <td>4</td>\n",
              "      <td>9.88</td>\n",
              "      <td>2.0</td>\n",
              "      <td>0</td>\n",
              "    </tr>\n",
              "    <tr>\n",
              "      <th>2</th>\n",
              "      <td>2</td>\n",
              "      <td>1</td>\n",
              "      <td>0</td>\n",
              "      <td>4</td>\n",
              "      <td>2</td>\n",
              "      <td>19</td>\n",
              "      <td>52</td>\n",
              "      <td>1</td>\n",
              "      <td>10.0</td>\n",
              "      <td>2</td>\n",
              "      <td>1</td>\n",
              "      <td>1</td>\n",
              "      <td>47.72</td>\n",
              "      <td>25.0</td>\n",
              "      <td>0</td>\n",
              "    </tr>\n",
              "    <tr>\n",
              "      <th>3</th>\n",
              "      <td>2</td>\n",
              "      <td>1</td>\n",
              "      <td>0</td>\n",
              "      <td>4</td>\n",
              "      <td>2</td>\n",
              "      <td>19</td>\n",
              "      <td>59</td>\n",
              "      <td>1</td>\n",
              "      <td>11.0</td>\n",
              "      <td>3</td>\n",
              "      <td>0</td>\n",
              "      <td>0</td>\n",
              "      <td>42.32</td>\n",
              "      <td>24.0</td>\n",
              "      <td>0</td>\n",
              "    </tr>\n",
              "    <tr>\n",
              "      <th>4</th>\n",
              "      <td>2</td>\n",
              "      <td>1</td>\n",
              "      <td>0</td>\n",
              "      <td>3</td>\n",
              "      <td>2</td>\n",
              "      <td>3</td>\n",
              "      <td>0</td>\n",
              "      <td>1</td>\n",
              "      <td>11.0</td>\n",
              "      <td>3</td>\n",
              "      <td>0</td>\n",
              "      <td>0</td>\n",
              "      <td>0.62</td>\n",
              "      <td>2.0</td>\n",
              "      <td>0</td>\n",
              "    </tr>\n",
              "  </tbody>\n",
              "</table>\n",
              "</div>\n",
              "      <button class=\"colab-df-convert\" onclick=\"convertToInteractive('df-95fa0bf3-ffa4-4d46-b44f-f01fd37676ac')\"\n",
              "              title=\"Convert this dataframe to an interactive table.\"\n",
              "              style=\"display:none;\">\n",
              "        \n",
              "  <svg xmlns=\"http://www.w3.org/2000/svg\" height=\"24px\"viewBox=\"0 0 24 24\"\n",
              "       width=\"24px\">\n",
              "    <path d=\"M0 0h24v24H0V0z\" fill=\"none\"/>\n",
              "    <path d=\"M18.56 5.44l.94 2.06.94-2.06 2.06-.94-2.06-.94-.94-2.06-.94 2.06-2.06.94zm-11 1L8.5 8.5l.94-2.06 2.06-.94-2.06-.94L8.5 2.5l-.94 2.06-2.06.94zm10 10l.94 2.06.94-2.06 2.06-.94-2.06-.94-.94-2.06-.94 2.06-2.06.94z\"/><path d=\"M17.41 7.96l-1.37-1.37c-.4-.4-.92-.59-1.43-.59-.52 0-1.04.2-1.43.59L10.3 9.45l-7.72 7.72c-.78.78-.78 2.05 0 2.83L4 21.41c.39.39.9.59 1.41.59.51 0 1.02-.2 1.41-.59l7.78-7.78 2.81-2.81c.8-.78.8-2.07 0-2.86zM5.41 20L4 18.59l7.72-7.72 1.47 1.35L5.41 20z\"/>\n",
              "  </svg>\n",
              "      </button>\n",
              "      \n",
              "  <style>\n",
              "    .colab-df-container {\n",
              "      display:flex;\n",
              "      flex-wrap:wrap;\n",
              "      gap: 12px;\n",
              "    }\n",
              "\n",
              "    .colab-df-convert {\n",
              "      background-color: #E8F0FE;\n",
              "      border: none;\n",
              "      border-radius: 50%;\n",
              "      cursor: pointer;\n",
              "      display: none;\n",
              "      fill: #1967D2;\n",
              "      height: 32px;\n",
              "      padding: 0 0 0 0;\n",
              "      width: 32px;\n",
              "    }\n",
              "\n",
              "    .colab-df-convert:hover {\n",
              "      background-color: #E2EBFA;\n",
              "      box-shadow: 0px 1px 2px rgba(60, 64, 67, 0.3), 0px 1px 3px 1px rgba(60, 64, 67, 0.15);\n",
              "      fill: #174EA6;\n",
              "    }\n",
              "\n",
              "    [theme=dark] .colab-df-convert {\n",
              "      background-color: #3B4455;\n",
              "      fill: #D2E3FC;\n",
              "    }\n",
              "\n",
              "    [theme=dark] .colab-df-convert:hover {\n",
              "      background-color: #434B5C;\n",
              "      box-shadow: 0px 1px 3px 1px rgba(0, 0, 0, 0.15);\n",
              "      filter: drop-shadow(0px 1px 2px rgba(0, 0, 0, 0.3));\n",
              "      fill: #FFFFFF;\n",
              "    }\n",
              "  </style>\n",
              "\n",
              "      <script>\n",
              "        const buttonEl =\n",
              "          document.querySelector('#df-95fa0bf3-ffa4-4d46-b44f-f01fd37676ac button.colab-df-convert');\n",
              "        buttonEl.style.display =\n",
              "          google.colab.kernel.accessAllowed ? 'block' : 'none';\n",
              "\n",
              "        async function convertToInteractive(key) {\n",
              "          const element = document.querySelector('#df-95fa0bf3-ffa4-4d46-b44f-f01fd37676ac');\n",
              "          const dataTable =\n",
              "            await google.colab.kernel.invokeFunction('convertToInteractive',\n",
              "                                                     [key], {});\n",
              "          if (!dataTable) return;\n",
              "\n",
              "          const docLinkHtml = 'Like what you see? Visit the ' +\n",
              "            '<a target=\"_blank\" href=https://colab.research.google.com/notebooks/data_table.ipynb>data table notebook</a>'\n",
              "            + ' to learn more about interactive tables.';\n",
              "          element.innerHTML = '';\n",
              "          dataTable['output_type'] = 'display_data';\n",
              "          await google.colab.output.renderOutput(dataTable, element);\n",
              "          const docLink = document.createElement('div');\n",
              "          docLink.innerHTML = docLinkHtml;\n",
              "          element.appendChild(docLink);\n",
              "        }\n",
              "      </script>\n",
              "    </div>\n",
              "  </div>\n",
              "  "
            ]
          },
          "metadata": {},
          "execution_count": 84
        }
      ],
      "source": [
        "#Check for all the encoded columns after the encoding process:\n",
        "df_enc.head()"
      ]
    },
    {
      "cell_type": "markdown",
      "source": [
        "####  2. Scaling: "
      ],
      "metadata": {
        "id": "aVdpTbUttMow"
      }
    },
    {
      "cell_type": "code",
      "execution_count": null,
      "metadata": {
        "id": "05Kd45_clmcR"
      },
      "outputs": [],
      "source": [
        "#Since we will use k-Nearest Neighbors and Support victor as classifier we need to scale the numric columns.\n",
        "scaler = StandardScaler()\n",
        "df_enc[['duration_minutes', 'total_pages','day','path2', 'path3']] = scaler.fit_transform(df_enc[['duration_minutes', 'total_pages','day', 'path2', 'path3']])"
      ]
    },
    {
      "cell_type": "code",
      "execution_count": null,
      "metadata": {
        "colab": {
          "base_uri": "https://localhost:8080/",
          "height": 424
        },
        "id": "K3RNVJHslmcR",
        "outputId": "fee9f9b3-f626-4742-f422-36a88a2c7633"
      },
      "outputs": [
        {
          "output_type": "execute_result",
          "data": {
            "text/plain": [
              "      Type  browser  device_type  os  path1     path2     path3  event_type  \\\n",
              "0        2        1            0   4      4 -0.280955  1.091332           1   \n",
              "1        2        1            0   4      2 -0.280955  0.407722           1   \n",
              "2        2        1            0   4      2  1.298499  0.244958           1   \n",
              "3        2        1            0   4      2  1.298499  0.472828           1   \n",
              "4        2        1            0   3      2 -2.311682 -1.447791           1   \n",
              "...    ...      ...          ...  ..    ...       ...       ...         ...   \n",
              "2944     0        1            1   0      2 -1.183501 -1.447791           0   \n",
              "2945     0        5            1   5      2  1.298499  1.058779           0   \n",
              "2946     0        2            1   5      2  0.170318 -1.447791           0   \n",
              "2947     0        5            1   5      2 -1.183501 -1.447791           0   \n",
              "2948     0        5            1   5      2 -1.183501 -1.447791           0   \n",
              "\n",
              "           day  day_name  week_label  day_parts  duration_minutes  \\\n",
              "0    -6.525833         4           1          1          0.481927   \n",
              "1    -5.258068         0           1          4         -0.041710   \n",
              "2    -3.990302         2           1          1          1.570532   \n",
              "3    -2.722536         3           0          0          1.340455   \n",
              "4    -2.722536         3           0          0         -0.436250   \n",
              "...        ...       ...         ...        ...               ...   \n",
              "2944  2.348526         4           1          4         -0.459257   \n",
              "2945  2.348526         4           1          4         -0.342515   \n",
              "2946  2.348526         4           1          4         -0.371913   \n",
              "2947  2.348526         4           1          4         -0.422190   \n",
              "2948  2.348526         4           1          4         -0.413668   \n",
              "\n",
              "      total_pages  invest  \n",
              "0       -0.093374       0  \n",
              "1       -0.633868       0  \n",
              "2       -0.155739       0  \n",
              "3       -0.176527       0  \n",
              "4       -0.633868       0  \n",
              "...           ...     ...  \n",
              "2944    -0.613080       0  \n",
              "2945    -0.259680       1  \n",
              "2946    -0.093374       0  \n",
              "2947    -0.550715       0  \n",
              "2948    -0.488350       0  \n",
              "\n",
              "[2949 rows x 15 columns]"
            ],
            "text/html": [
              "\n",
              "  <div id=\"df-c212ef4e-ecb0-4a41-91c1-537a7f003281\">\n",
              "    <div class=\"colab-df-container\">\n",
              "      <div>\n",
              "<style scoped>\n",
              "    .dataframe tbody tr th:only-of-type {\n",
              "        vertical-align: middle;\n",
              "    }\n",
              "\n",
              "    .dataframe tbody tr th {\n",
              "        vertical-align: top;\n",
              "    }\n",
              "\n",
              "    .dataframe thead th {\n",
              "        text-align: right;\n",
              "    }\n",
              "</style>\n",
              "<table border=\"1\" class=\"dataframe\">\n",
              "  <thead>\n",
              "    <tr style=\"text-align: right;\">\n",
              "      <th></th>\n",
              "      <th>Type</th>\n",
              "      <th>browser</th>\n",
              "      <th>device_type</th>\n",
              "      <th>os</th>\n",
              "      <th>path1</th>\n",
              "      <th>path2</th>\n",
              "      <th>path3</th>\n",
              "      <th>event_type</th>\n",
              "      <th>day</th>\n",
              "      <th>day_name</th>\n",
              "      <th>week_label</th>\n",
              "      <th>day_parts</th>\n",
              "      <th>duration_minutes</th>\n",
              "      <th>total_pages</th>\n",
              "      <th>invest</th>\n",
              "    </tr>\n",
              "  </thead>\n",
              "  <tbody>\n",
              "    <tr>\n",
              "      <th>0</th>\n",
              "      <td>2</td>\n",
              "      <td>1</td>\n",
              "      <td>0</td>\n",
              "      <td>4</td>\n",
              "      <td>4</td>\n",
              "      <td>-0.280955</td>\n",
              "      <td>1.091332</td>\n",
              "      <td>1</td>\n",
              "      <td>-6.525833</td>\n",
              "      <td>4</td>\n",
              "      <td>1</td>\n",
              "      <td>1</td>\n",
              "      <td>0.481927</td>\n",
              "      <td>-0.093374</td>\n",
              "      <td>0</td>\n",
              "    </tr>\n",
              "    <tr>\n",
              "      <th>1</th>\n",
              "      <td>2</td>\n",
              "      <td>1</td>\n",
              "      <td>0</td>\n",
              "      <td>4</td>\n",
              "      <td>2</td>\n",
              "      <td>-0.280955</td>\n",
              "      <td>0.407722</td>\n",
              "      <td>1</td>\n",
              "      <td>-5.258068</td>\n",
              "      <td>0</td>\n",
              "      <td>1</td>\n",
              "      <td>4</td>\n",
              "      <td>-0.041710</td>\n",
              "      <td>-0.633868</td>\n",
              "      <td>0</td>\n",
              "    </tr>\n",
              "    <tr>\n",
              "      <th>2</th>\n",
              "      <td>2</td>\n",
              "      <td>1</td>\n",
              "      <td>0</td>\n",
              "      <td>4</td>\n",
              "      <td>2</td>\n",
              "      <td>1.298499</td>\n",
              "      <td>0.244958</td>\n",
              "      <td>1</td>\n",
              "      <td>-3.990302</td>\n",
              "      <td>2</td>\n",
              "      <td>1</td>\n",
              "      <td>1</td>\n",
              "      <td>1.570532</td>\n",
              "      <td>-0.155739</td>\n",
              "      <td>0</td>\n",
              "    </tr>\n",
              "    <tr>\n",
              "      <th>3</th>\n",
              "      <td>2</td>\n",
              "      <td>1</td>\n",
              "      <td>0</td>\n",
              "      <td>4</td>\n",
              "      <td>2</td>\n",
              "      <td>1.298499</td>\n",
              "      <td>0.472828</td>\n",
              "      <td>1</td>\n",
              "      <td>-2.722536</td>\n",
              "      <td>3</td>\n",
              "      <td>0</td>\n",
              "      <td>0</td>\n",
              "      <td>1.340455</td>\n",
              "      <td>-0.176527</td>\n",
              "      <td>0</td>\n",
              "    </tr>\n",
              "    <tr>\n",
              "      <th>4</th>\n",
              "      <td>2</td>\n",
              "      <td>1</td>\n",
              "      <td>0</td>\n",
              "      <td>3</td>\n",
              "      <td>2</td>\n",
              "      <td>-2.311682</td>\n",
              "      <td>-1.447791</td>\n",
              "      <td>1</td>\n",
              "      <td>-2.722536</td>\n",
              "      <td>3</td>\n",
              "      <td>0</td>\n",
              "      <td>0</td>\n",
              "      <td>-0.436250</td>\n",
              "      <td>-0.633868</td>\n",
              "      <td>0</td>\n",
              "    </tr>\n",
              "    <tr>\n",
              "      <th>...</th>\n",
              "      <td>...</td>\n",
              "      <td>...</td>\n",
              "      <td>...</td>\n",
              "      <td>...</td>\n",
              "      <td>...</td>\n",
              "      <td>...</td>\n",
              "      <td>...</td>\n",
              "      <td>...</td>\n",
              "      <td>...</td>\n",
              "      <td>...</td>\n",
              "      <td>...</td>\n",
              "      <td>...</td>\n",
              "      <td>...</td>\n",
              "      <td>...</td>\n",
              "      <td>...</td>\n",
              "    </tr>\n",
              "    <tr>\n",
              "      <th>2944</th>\n",
              "      <td>0</td>\n",
              "      <td>1</td>\n",
              "      <td>1</td>\n",
              "      <td>0</td>\n",
              "      <td>2</td>\n",
              "      <td>-1.183501</td>\n",
              "      <td>-1.447791</td>\n",
              "      <td>0</td>\n",
              "      <td>2.348526</td>\n",
              "      <td>4</td>\n",
              "      <td>1</td>\n",
              "      <td>4</td>\n",
              "      <td>-0.459257</td>\n",
              "      <td>-0.613080</td>\n",
              "      <td>0</td>\n",
              "    </tr>\n",
              "    <tr>\n",
              "      <th>2945</th>\n",
              "      <td>0</td>\n",
              "      <td>5</td>\n",
              "      <td>1</td>\n",
              "      <td>5</td>\n",
              "      <td>2</td>\n",
              "      <td>1.298499</td>\n",
              "      <td>1.058779</td>\n",
              "      <td>0</td>\n",
              "      <td>2.348526</td>\n",
              "      <td>4</td>\n",
              "      <td>1</td>\n",
              "      <td>4</td>\n",
              "      <td>-0.342515</td>\n",
              "      <td>-0.259680</td>\n",
              "      <td>1</td>\n",
              "    </tr>\n",
              "    <tr>\n",
              "      <th>2946</th>\n",
              "      <td>0</td>\n",
              "      <td>2</td>\n",
              "      <td>1</td>\n",
              "      <td>5</td>\n",
              "      <td>2</td>\n",
              "      <td>0.170318</td>\n",
              "      <td>-1.447791</td>\n",
              "      <td>0</td>\n",
              "      <td>2.348526</td>\n",
              "      <td>4</td>\n",
              "      <td>1</td>\n",
              "      <td>4</td>\n",
              "      <td>-0.371913</td>\n",
              "      <td>-0.093374</td>\n",
              "      <td>0</td>\n",
              "    </tr>\n",
              "    <tr>\n",
              "      <th>2947</th>\n",
              "      <td>0</td>\n",
              "      <td>5</td>\n",
              "      <td>1</td>\n",
              "      <td>5</td>\n",
              "      <td>2</td>\n",
              "      <td>-1.183501</td>\n",
              "      <td>-1.447791</td>\n",
              "      <td>0</td>\n",
              "      <td>2.348526</td>\n",
              "      <td>4</td>\n",
              "      <td>1</td>\n",
              "      <td>4</td>\n",
              "      <td>-0.422190</td>\n",
              "      <td>-0.550715</td>\n",
              "      <td>0</td>\n",
              "    </tr>\n",
              "    <tr>\n",
              "      <th>2948</th>\n",
              "      <td>0</td>\n",
              "      <td>5</td>\n",
              "      <td>1</td>\n",
              "      <td>5</td>\n",
              "      <td>2</td>\n",
              "      <td>-1.183501</td>\n",
              "      <td>-1.447791</td>\n",
              "      <td>0</td>\n",
              "      <td>2.348526</td>\n",
              "      <td>4</td>\n",
              "      <td>1</td>\n",
              "      <td>4</td>\n",
              "      <td>-0.413668</td>\n",
              "      <td>-0.488350</td>\n",
              "      <td>0</td>\n",
              "    </tr>\n",
              "  </tbody>\n",
              "</table>\n",
              "<p>2949 rows × 15 columns</p>\n",
              "</div>\n",
              "      <button class=\"colab-df-convert\" onclick=\"convertToInteractive('df-c212ef4e-ecb0-4a41-91c1-537a7f003281')\"\n",
              "              title=\"Convert this dataframe to an interactive table.\"\n",
              "              style=\"display:none;\">\n",
              "        \n",
              "  <svg xmlns=\"http://www.w3.org/2000/svg\" height=\"24px\"viewBox=\"0 0 24 24\"\n",
              "       width=\"24px\">\n",
              "    <path d=\"M0 0h24v24H0V0z\" fill=\"none\"/>\n",
              "    <path d=\"M18.56 5.44l.94 2.06.94-2.06 2.06-.94-2.06-.94-.94-2.06-.94 2.06-2.06.94zm-11 1L8.5 8.5l.94-2.06 2.06-.94-2.06-.94L8.5 2.5l-.94 2.06-2.06.94zm10 10l.94 2.06.94-2.06 2.06-.94-2.06-.94-.94-2.06-.94 2.06-2.06.94z\"/><path d=\"M17.41 7.96l-1.37-1.37c-.4-.4-.92-.59-1.43-.59-.52 0-1.04.2-1.43.59L10.3 9.45l-7.72 7.72c-.78.78-.78 2.05 0 2.83L4 21.41c.39.39.9.59 1.41.59.51 0 1.02-.2 1.41-.59l7.78-7.78 2.81-2.81c.8-.78.8-2.07 0-2.86zM5.41 20L4 18.59l7.72-7.72 1.47 1.35L5.41 20z\"/>\n",
              "  </svg>\n",
              "      </button>\n",
              "      \n",
              "  <style>\n",
              "    .colab-df-container {\n",
              "      display:flex;\n",
              "      flex-wrap:wrap;\n",
              "      gap: 12px;\n",
              "    }\n",
              "\n",
              "    .colab-df-convert {\n",
              "      background-color: #E8F0FE;\n",
              "      border: none;\n",
              "      border-radius: 50%;\n",
              "      cursor: pointer;\n",
              "      display: none;\n",
              "      fill: #1967D2;\n",
              "      height: 32px;\n",
              "      padding: 0 0 0 0;\n",
              "      width: 32px;\n",
              "    }\n",
              "\n",
              "    .colab-df-convert:hover {\n",
              "      background-color: #E2EBFA;\n",
              "      box-shadow: 0px 1px 2px rgba(60, 64, 67, 0.3), 0px 1px 3px 1px rgba(60, 64, 67, 0.15);\n",
              "      fill: #174EA6;\n",
              "    }\n",
              "\n",
              "    [theme=dark] .colab-df-convert {\n",
              "      background-color: #3B4455;\n",
              "      fill: #D2E3FC;\n",
              "    }\n",
              "\n",
              "    [theme=dark] .colab-df-convert:hover {\n",
              "      background-color: #434B5C;\n",
              "      box-shadow: 0px 1px 3px 1px rgba(0, 0, 0, 0.15);\n",
              "      filter: drop-shadow(0px 1px 2px rgba(0, 0, 0, 0.3));\n",
              "      fill: #FFFFFF;\n",
              "    }\n",
              "  </style>\n",
              "\n",
              "      <script>\n",
              "        const buttonEl =\n",
              "          document.querySelector('#df-c212ef4e-ecb0-4a41-91c1-537a7f003281 button.colab-df-convert');\n",
              "        buttonEl.style.display =\n",
              "          google.colab.kernel.accessAllowed ? 'block' : 'none';\n",
              "\n",
              "        async function convertToInteractive(key) {\n",
              "          const element = document.querySelector('#df-c212ef4e-ecb0-4a41-91c1-537a7f003281');\n",
              "          const dataTable =\n",
              "            await google.colab.kernel.invokeFunction('convertToInteractive',\n",
              "                                                     [key], {});\n",
              "          if (!dataTable) return;\n",
              "\n",
              "          const docLinkHtml = 'Like what you see? Visit the ' +\n",
              "            '<a target=\"_blank\" href=https://colab.research.google.com/notebooks/data_table.ipynb>data table notebook</a>'\n",
              "            + ' to learn more about interactive tables.';\n",
              "          element.innerHTML = '';\n",
              "          dataTable['output_type'] = 'display_data';\n",
              "          await google.colab.output.renderOutput(dataTable, element);\n",
              "          const docLink = document.createElement('div');\n",
              "          docLink.innerHTML = docLinkHtml;\n",
              "          element.appendChild(docLink);\n",
              "        }\n",
              "      </script>\n",
              "    </div>\n",
              "  </div>\n",
              "  "
            ]
          },
          "metadata": {},
          "execution_count": 86
        }
      ],
      "source": [
        "#Ckecking after the scaling process:\n",
        "df_enc"
      ]
    },
    {
      "cell_type": "markdown",
      "metadata": {
        "id": "woooTTxPlmcR"
      },
      "source": [
        "### 3. Split data"
      ]
    },
    {
      "cell_type": "code",
      "execution_count": null,
      "metadata": {
        "id": "_GD-l-i1lmcR"
      },
      "outputs": [],
      "source": [
        "#Split the dataset: \n",
        "\n",
        "train, test = train_test_split(\n",
        "    df_enc,\n",
        "    test_size=0.2,\n",
        "    train_size = 0.8,\n",
        "    random_state=42\n",
        ")"
      ]
    },
    {
      "cell_type": "code",
      "execution_count": null,
      "metadata": {
        "id": "LFDq-fJMlmcR"
      },
      "outputs": [],
      "source": [
        "#Feature selection:\n",
        "#Feature set of X: Type, browser, device_type, os, event_type, day, day_name, week_label, day_parts, duration_minutes, total_pages.\n",
        "#Target: invest.\n",
        "X_train = train.iloc[:, :-1]\n",
        "y_train = train.iloc[:, -1]\n",
        "\n",
        "X_test = test.iloc[:, :-1]\n",
        "y_test = test.iloc[:, -1]"
      ]
    },
    {
      "cell_type": "code",
      "execution_count": null,
      "metadata": {
        "id": "I7uTkF1ylmcR"
      },
      "outputs": [],
      "source": [
        "#Reshape the target.\n",
        "y_train = y_train.values.reshape(-1,1)\n",
        "y_test = y_test.values.reshape(-1,1)"
      ]
    },
    {
      "cell_type": "code",
      "execution_count": null,
      "metadata": {
        "colab": {
          "base_uri": "https://localhost:8080/"
        },
        "id": "0blsHXfJlmcR",
        "outputId": "b4e43cdf-450e-44bb-d278-520f6654add6"
      },
      "outputs": [
        {
          "output_type": "execute_result",
          "data": {
            "text/plain": [
              "(2359, 14)"
            ]
          },
          "metadata": {},
          "execution_count": 90
        }
      ],
      "source": [
        "X_train.shape"
      ]
    },
    {
      "cell_type": "code",
      "execution_count": null,
      "metadata": {
        "colab": {
          "base_uri": "https://localhost:8080/"
        },
        "id": "R8Gyq1AhlmcS",
        "outputId": "f59d41bf-231d-45ec-c669-cf99b0715e86"
      },
      "outputs": [
        {
          "output_type": "execute_result",
          "data": {
            "text/plain": [
              "(590, 14)"
            ]
          },
          "metadata": {},
          "execution_count": 91
        }
      ],
      "source": [
        "X_test.shape"
      ]
    },
    {
      "cell_type": "code",
      "execution_count": null,
      "metadata": {
        "colab": {
          "base_uri": "https://localhost:8080/"
        },
        "id": "_N56-HPPlmcS",
        "outputId": "06d9dc75-5f8f-46e1-b344-d0e2ddf55cea"
      },
      "outputs": [
        {
          "output_type": "execute_result",
          "data": {
            "text/plain": [
              "(2359, 1)"
            ]
          },
          "metadata": {},
          "execution_count": 92
        }
      ],
      "source": [
        "y_train.shape"
      ]
    },
    {
      "cell_type": "code",
      "execution_count": null,
      "metadata": {
        "colab": {
          "base_uri": "https://localhost:8080/"
        },
        "id": "roZjhMN5lmcS",
        "outputId": "7ee41fa9-dbd0-4b2b-de05-8c826cae329e"
      },
      "outputs": [
        {
          "output_type": "execute_result",
          "data": {
            "text/plain": [
              "(590, 1)"
            ]
          },
          "metadata": {},
          "execution_count": 93
        }
      ],
      "source": [
        "y_test.shape"
      ]
    },
    {
      "cell_type": "code",
      "execution_count": null,
      "metadata": {
        "colab": {
          "base_uri": "https://localhost:8080/",
          "height": 789
        },
        "id": "YBg2AVfglmcS",
        "outputId": "ea2dc8bc-0e12-4605-f49d-60cc4cf1c60b"
      },
      "outputs": [
        {
          "output_type": "execute_result",
          "data": {
            "text/plain": [
              "<matplotlib.axes._subplots.AxesSubplot at 0x7f99408ac050>"
            ]
          },
          "metadata": {},
          "execution_count": 94
        },
        {
          "output_type": "display_data",
          "data": {
            "text/plain": [
              "<Figure size 1080x864 with 2 Axes>"
            ],
            "image/png": "[encoded data removed]"
          },
          "metadata": {
            "needs_background": "light"
          }
        }
      ],
      "source": [
        "#Examining correlation matrix using heatmap: \n",
        "cmap = sns.diverging_palette(205, 133, 63, as_cmap=True)\n",
        "cols = ([\"#682F2F\", \"#9E726F\", \"#D6B2B1\", \"#B9C0C9\", \"#9F8A78\", \"#F3AB60\"])\n",
        "corrmat= df_enc.corr()\n",
        "f, ax = plt.subplots(figsize=(15,12))\n",
        "sns.heatmap(corrmat,cmap=cols,annot=True)"
      ]
    },
    {
      "cell_type": "markdown",
      "source": [
        "### 4. Oversampling"
      ],
      "metadata": {
        "id": "APjSFRVPi5zb"
      }
    },
    {
      "cell_type": "code",
      "source": [
        "print(\"Before OverSampling, counts of label '0': {}\".format(sum(y_train==0)))\n",
        "print(\"Before OverSampling, counts of label '1': {} \\n\".format(sum(y_train==1)))\n",
        "print(\"Before OverSampling, counts of label '2': {} \\n\".format(sum(y_train==2)))\n"
      ],
      "metadata": {
        "colab": {
          "base_uri": "https://localhost:8080/"
        },
        "id": "LGLkg4KGV4c7",
        "outputId": "9ebcc229-2b04-4d8b-fe7c-4dc2a36e8cca"
      },
      "execution_count": null,
      "outputs": [
        {
          "output_type": "stream",
          "name": "stdout",
          "text": [
            "Before OverSampling, counts of label '0': [1892]\n",
            "Before OverSampling, counts of label '1': [384] \n",
            "\n",
            "Before OverSampling, counts of label '2': [83] \n",
            "\n"
          ]
        }
      ]
    },
    {
      "cell_type": "code",
      "source": [
        "sm = SMOTE(random_state=42)\n",
        "X_train, y_train = sm.fit_resample(X_train, y_train.ravel())\n",
        "\n",
        "print('After OverSampling, the shape of train_X: {}'.format(X_train.shape))\n",
        "print('After OverSampling, the shape of train_y: {} \\n'.format(y_train.shape))\n",
        "\n",
        "print(\"After OverSampling, counts of label '0': {}\".format(sum(y_train==0)))\n",
        "print(\"After OverSampling, counts of label '1': {}\".format(sum(y_train==1)))\n",
        "print(\"After OverSampling, counts of label '2': {}\".format(sum(y_train==2)))"
      ],
      "metadata": {
        "colab": {
          "base_uri": "https://localhost:8080/"
        },
        "id": "RgHLaFVTePNW",
        "outputId": "cd784a47-e738-4ac8-e251-564146e45eb6"
      },
      "execution_count": null,
      "outputs": [
        {
          "output_type": "stream",
          "name": "stdout",
          "text": [
            "After OverSampling, the shape of train_X: (5676, 14)\n",
            "After OverSampling, the shape of train_y: (5676,) \n",
            "\n",
            "After OverSampling, counts of label '0': 1892\n",
            "After OverSampling, counts of label '1': 1892\n",
            "After OverSampling, counts of label '2': 1892\n"
          ]
        }
      ]
    },
    {
      "cell_type": "markdown",
      "metadata": {
        "id": "DT8V4bC8lmcS"
      },
      "source": [
        "### 5. Train models"
      ]
    },
    {
      "cell_type": "markdown",
      "metadata": {
        "id": "jFK296zBug7u"
      },
      "source": [
        "### 1st Classification Model "
      ]
    },
    {
      "cell_type": "markdown",
      "metadata": {
        "id": "mg_p17Niu9uJ"
      },
      "source": [
        "#### 1. Support Vector For Classification\n",
        "\n",
        "1.   List item\n",
        "2.   List item\n",
        "\n"
      ]
    },
    {
      "cell_type": "code",
      "execution_count": null,
      "metadata": {
        "colab": {
          "base_uri": "https://localhost:8080/"
        },
        "id": "o7xELTDZlmcW",
        "outputId": "5c47adb2-bcad-4a2c-aa66-266f3fd29f71"
      },
      "outputs": [
        {
          "output_type": "execute_result",
          "data": {
            "text/plain": [
              "SVC(kernel='linear', random_state=42)"
            ]
          },
          "metadata": {},
          "execution_count": 97
        }
      ],
      "source": [
        "class_SVC = SVC(kernel = 'linear', random_state = 42)\n",
        "\n",
        "class_SVC.fit(X_train, y_train)"
      ]
    },
    {
      "cell_type": "code",
      "execution_count": null,
      "metadata": {
        "colab": {
          "base_uri": "https://localhost:8080/"
        },
        "id": "WxjhJOP8lmcX",
        "outputId": "8cf634e3-804f-4598-f74e-b1470482d4b4"
      },
      "outputs": [
        {
          "output_type": "stream",
          "name": "stdout",
          "text": [
            "Training Accuracy: 78.0%\n",
            "Test Set Accuracy: 90.0%\n"
          ]
        }
      ],
      "source": [
        "val_train_SVC = round(class_SVC.score(X_train, y_train),2)*100\n",
        "val_test_SVC = round(class_SVC.score(X_test, y_test),2)*100\n",
        "\n",
        "#Pridected Y Class\n",
        "preds_class_SVC = class_SVC.predict(X_test)\n",
        "\n",
        "#Classification Report for RF Model\n",
        "CL_SVC=classification_report(y_test, preds_class_SVC)\n",
        "\n",
        "print(f'Training Accuracy: {val_train_SVC}%')\n",
        "print(f'Test Set Accuracy: {val_test_SVC}%')"
      ]
    },
    {
      "cell_type": "code",
      "execution_count": null,
      "metadata": {
        "colab": {
          "base_uri": "https://localhost:8080/",
          "height": 315
        },
        "id": "az_-DQgIlmcX",
        "outputId": "af936d67-305c-4dc2-c5e3-87fe6d7b46a6"
      },
      "outputs": [
        {
          "output_type": "stream",
          "name": "stdout",
          "text": [
            "Confusion Matrix for Support Vector Machine Classification model:\n",
            "  \n"
          ]
        },
        {
          "output_type": "display_data",
          "data": {
            "text/plain": [
              "<Figure size 432x288 with 2 Axes>"
            ],
            "image/png": "[encoded data removed]"
          },
          "metadata": {
            "needs_background": "light"
          }
        }
      ],
      "source": [
        "# We can also make a simple confusion matrix\n",
        "print(\"Confusion Matrix for Support Vector Machine Classification model:\")\n",
        "print(\"  \")\n",
        "plot_confusion_matrix(class_SVC, X_test, y_test, cmap='Blues');"
      ]
    },
    {
      "cell_type": "code",
      "execution_count": null,
      "metadata": {
        "colab": {
          "base_uri": "https://localhost:8080/"
        },
        "id": "33oDeSBvlmcX",
        "outputId": "2dccbddd-69cf-40b3-8186-7d50396595e7"
      },
      "outputs": [
        {
          "output_type": "stream",
          "name": "stdout",
          "text": [
            "Classification Report for Support Vector Machine Classification model:\n",
            "  \n",
            "              precision    recall  f1-score   support\n",
            "\n",
            "           0       1.00      0.98      0.99       447\n",
            "           1       0.83      0.63      0.72       115\n",
            "           2       0.26      0.57      0.36        28\n",
            "\n",
            "    accuracy                           0.90       590\n",
            "   macro avg       0.70      0.73      0.69       590\n",
            "weighted avg       0.93      0.90      0.91       590\n",
            "\n"
          ]
        }
      ],
      "source": [
        "print(\"Classification Report for Support Vector Machine Classification model:\")\n",
        "print(\"  \")\n",
        "print(CL_SVC)"
      ]
    },
    {
      "cell_type": "markdown",
      "metadata": {
        "id": "_-g4LdYAu9uG"
      },
      "source": [
        "### 2nd Classification Model "
      ]
    },
    {
      "cell_type": "markdown",
      "metadata": {
        "id": "_MY5Lq5cu9uH"
      },
      "source": [
        "#### 2. k-Nearest Neighbors For Classification\n"
      ]
    },
    {
      "cell_type": "code",
      "execution_count": null,
      "metadata": {
        "colab": {
          "base_uri": "https://localhost:8080/"
        },
        "id": "419PK121lmcU",
        "outputId": "281f375e-c4af-4708-d4f3-46f156c4f161"
      },
      "outputs": [
        {
          "output_type": "execute_result",
          "data": {
            "text/plain": [
              "KNeighborsClassifier()"
            ]
          },
          "metadata": {},
          "execution_count": 101
        }
      ],
      "source": [
        "# KNN or k-Nearest Neighbors\n",
        "from sklearn.neighbors import KNeighborsClassifier\n",
        "\n",
        "KNN = KNeighborsClassifier()\n",
        "KNN.fit(X_train, y_train)\n",
        "\n",
        "\n",
        "#acc_knn = round(accuracy_score(y_pred, y_val) * 100, 2)\n",
        "#print(acc_knn)"
      ]
    },
    {
      "cell_type": "code",
      "execution_count": null,
      "metadata": {
        "colab": {
          "base_uri": "https://localhost:8080/"
        },
        "id": "aAEYrZtClmcU",
        "outputId": "0c8cad54-6b3c-49fc-fbb8-226cdf8ac05e"
      },
      "outputs": [
        {
          "output_type": "stream",
          "name": "stdout",
          "text": [
            "Training Accuracy: 94.0%\n",
            "Test Set Accuracy: 86.0%\n"
          ]
        }
      ],
      "source": [
        "val_train_KNN = round(KNN.score(X_train, y_train),2)*100\n",
        "val_test_KNN = round(KNN.score(X_test, y_test),2)*100\n",
        "\n",
        "#Pridected Y Class\n",
        "preds_class_KNN = KNN.predict(X_test)\n",
        "\n",
        "#Classification Report for RF Model\n",
        "CL_KNN=classification_report(y_test, preds_class_KNN)\n",
        "\n",
        "print(f'Training Accuracy: {val_train_KNN}%')\n",
        "print(f'Test Set Accuracy: {val_test_KNN}%')"
      ]
    },
    {
      "cell_type": "code",
      "execution_count": null,
      "metadata": {
        "colab": {
          "base_uri": "https://localhost:8080/",
          "height": 315
        },
        "id": "xVWLfb5ElmcV",
        "outputId": "78770abb-ed20-4e5c-ea2d-f57824f98e57"
      },
      "outputs": [
        {
          "output_type": "stream",
          "name": "stdout",
          "text": [
            "Confusion Matrix for k-Nearest Neighbors Classification model:\n",
            "  \n"
          ]
        },
        {
          "output_type": "display_data",
          "data": {
            "text/plain": [
              "<Figure size 432x288 with 2 Axes>"
            ],
            "image/png": "[encoded data removed]"
          },
          "metadata": {
            "needs_background": "light"
          }
        }
      ],
      "source": [
        "# Model Evaluation:\n",
        "# We can also make a simple confusion matrix\n",
        "print(\"Confusion Matrix for k-Nearest Neighbors Classification model:\")\n",
        "print(\"  \")\n",
        "plot_confusion_matrix(KNN, X_test, y_test, cmap='Blues');"
      ]
    },
    {
      "cell_type": "code",
      "execution_count": null,
      "metadata": {
        "colab": {
          "base_uri": "https://localhost:8080/"
        },
        "id": "FUecZq2almcV",
        "outputId": "b56369e9-d4f3-4c73-d901-a72b964512af"
      },
      "outputs": [
        {
          "output_type": "stream",
          "name": "stdout",
          "text": [
            "Classification Report for k-Nearest Neighbors Classification model:\n",
            "  \n",
            "              precision    recall  f1-score   support\n",
            "\n",
            "           0       0.99      0.92      0.96       447\n",
            "           1       0.69      0.70      0.70       115\n",
            "           2       0.28      0.57      0.37        28\n",
            "\n",
            "    accuracy                           0.86       590\n",
            "   macro avg       0.65      0.73      0.68       590\n",
            "weighted avg       0.90      0.86      0.88       590\n",
            "\n"
          ]
        }
      ],
      "source": [
        "print(\"Classification Report for k-Nearest Neighbors Classification model:\")\n",
        "print(\"  \")\n",
        "print(CL_KNN)"
      ]
    },
    {
      "cell_type": "markdown",
      "metadata": {
        "id": "SMLGyagSu9uH"
      },
      "source": [
        "### 3rd Classification Model "
      ]
    },
    {
      "cell_type": "markdown",
      "metadata": {
        "id": "13EBSRBvJqv-"
      },
      "source": [
        "#### 3. Random Forest For Classification"
      ]
    },
    {
      "cell_type": "code",
      "execution_count": null,
      "metadata": {
        "colab": {
          "base_uri": "https://localhost:8080/"
        },
        "id": "YD0NHaIblmcV",
        "outputId": "f91d4045-2f9f-48e1-d026-af5a09ba4e39"
      },
      "outputs": [
        {
          "output_type": "execute_result",
          "data": {
            "text/plain": [
              "RandomForestClassifier(n_estimators=5, random_state=42)"
            ]
          },
          "metadata": {},
          "execution_count": 105
        }
      ],
      "source": [
        "class_forest_RFC = RandomForestClassifier(n_estimators = 5, criterion = 'gini', random_state = 42)\n",
        "\n",
        "class_forest_RFC.fit(X_train, y_train)"
      ]
    },
    {
      "cell_type": "code",
      "execution_count": null,
      "metadata": {
        "colab": {
          "base_uri": "https://localhost:8080/"
        },
        "id": "Sf3Kmgl5lmcV",
        "outputId": "0b8023ab-ee4b-477f-be4a-285b689c6739"
      },
      "outputs": [
        {
          "output_type": "stream",
          "name": "stdout",
          "text": [
            "Training Accuracy of Random Forest Classifier: 99.0%\n",
            "Test Set Accuracy of Random Forest Classifier: 93.0%\n"
          ]
        }
      ],
      "source": [
        "val_train_RFC = round(class_forest_RFC.score(X_train, y_train),2)*100\n",
        "val_test_RFC = round(class_forest_RFC.score(X_test, y_test),2)*100\n",
        "\n",
        "\n",
        "#Pridected Y Class\n",
        "preds_class_RFC = class_forest_RFC.predict(X_test)\n",
        "\n",
        "#Classification Report for RF Model\n",
        "CL_RFC=classification_report(y_test, preds_class_RFC)\n",
        "\n",
        "print(f'Training Accuracy of Random Forest Classifier: {val_train_RFC}%')\n",
        "print(f'Test Set Accuracy of Random Forest Classifier: {val_test_RFC}%')"
      ]
    },
    {
      "cell_type": "code",
      "execution_count": null,
      "metadata": {
        "colab": {
          "base_uri": "https://localhost:8080/",
          "height": 315
        },
        "id": "T3A3GMfElmcV",
        "outputId": "55477f2b-dfec-4cde-b226-a81214471646"
      },
      "outputs": [
        {
          "output_type": "stream",
          "name": "stdout",
          "text": [
            "Confusion Matrix for Random Forest Classification model:\n",
            "  \n"
          ]
        },
        {
          "output_type": "display_data",
          "data": {
            "text/plain": [
              "<Figure size 432x288 with 2 Axes>"
            ],
            "image/png": "[encoded data removed]"
          },
          "metadata": {
            "needs_background": "light"
          }
        }
      ],
      "source": [
        "# Model Evaluation:\n",
        "\n",
        "print(\"Confusion Matrix for Random Forest Classification model:\")\n",
        "print(\"  \")\n",
        "plot_confusion_matrix(class_forest_RFC, X_test, y_test, cmap='Blues');"
      ]
    },
    {
      "cell_type": "code",
      "execution_count": null,
      "metadata": {
        "colab": {
          "base_uri": "https://localhost:8080/"
        },
        "id": "cf65LYqylmcV",
        "outputId": "421efbca-a675-4626-a6c1-696fb7ac5859"
      },
      "outputs": [
        {
          "output_type": "stream",
          "name": "stdout",
          "text": [
            "Classification Report for Random Forest Classification model:\n",
            "  \n",
            "              precision    recall  f1-score   support\n",
            "\n",
            "           0       0.99      0.99      0.99       447\n",
            "           1       0.86      0.78      0.82       115\n",
            "           2       0.32      0.43      0.37        28\n",
            "\n",
            "    accuracy                           0.93       590\n",
            "   macro avg       0.72      0.73      0.73       590\n",
            "weighted avg       0.93      0.93      0.93       590\n",
            "\n"
          ]
        }
      ],
      "source": [
        "print(\"Classification Report for Random Forest Classification model:\")\n",
        "print(\"  \")\n",
        "print(CL_RFC)"
      ]
    },
    {
      "cell_type": "markdown",
      "metadata": {
        "id": "37MLnYu1u9uH"
      },
      "source": [
        "### 4th Classification Model "
      ]
    },
    {
      "cell_type": "markdown",
      "metadata": {
        "id": "OySaticxJqv9"
      },
      "source": [
        "#### 4. Decision Trees For Classification \n"
      ]
    },
    {
      "cell_type": "code",
      "execution_count": null,
      "metadata": {
        "colab": {
          "base_uri": "https://localhost:8080/"
        },
        "id": "ivcQQgS3lmcW",
        "outputId": "b0d58a91-a387-4619-80db-618b3c7b3ecb"
      },
      "outputs": [
        {
          "output_type": "execute_result",
          "data": {
            "text/plain": [
              "DecisionTreeClassifier(max_depth=4)"
            ]
          },
          "metadata": {},
          "execution_count": 109
        }
      ],
      "source": [
        "class_tree_DTC = DecisionTreeClassifier(criterion='gini', max_depth=4)\n",
        "\n",
        "class_tree_DTC.fit(X_train, y_train)"
      ]
    },
    {
      "cell_type": "code",
      "execution_count": null,
      "metadata": {
        "colab": {
          "base_uri": "https://localhost:8080/"
        },
        "id": "sgu6eJ_plmcW",
        "outputId": "d0117b45-36e7-46b0-dc67-a2fcf714f065"
      },
      "outputs": [
        {
          "output_type": "stream",
          "name": "stdout",
          "text": [
            "Training Accuracy of Decision Tree Classifier: 76.0%\n",
            "Test Set Accuracy of Decision Tree Classifier: 85.0%\n"
          ]
        }
      ],
      "source": [
        "val_train_DTC = round(class_tree_DTC.score(X_train, y_train),2)*100\n",
        "val_test_DTC = round(class_tree_DTC.score(X_test, y_test),2)*100\n",
        "\n",
        "\n",
        "#Pridected Y Class\n",
        "preds_class_DT = class_tree_DTC.predict(X_test)\n",
        "\n",
        "#Classification Report for DTC Model\n",
        "CL_DTC=classification_report(y_test, preds_class_DT)\n",
        "\n",
        "print(f'Training Accuracy of Decision Tree Classifier: {val_train_DTC}%')\n",
        "print(f'Test Set Accuracy of Decision Tree Classifier: {val_test_DTC}%')"
      ]
    },
    {
      "cell_type": "code",
      "execution_count": null,
      "metadata": {
        "colab": {
          "base_uri": "https://localhost:8080/",
          "height": 315
        },
        "id": "Ghm80Nb7lmcW",
        "outputId": "e24a0eed-fff1-423c-80f0-646d4ebdc03c"
      },
      "outputs": [
        {
          "output_type": "stream",
          "name": "stdout",
          "text": [
            "Confusion Matrix for Decision Tree Classification model:\n",
            "  \n"
          ]
        },
        {
          "output_type": "display_data",
          "data": {
            "text/plain": [
              "<Figure size 432x288 with 2 Axes>"
            ],
            "image/png": "[encoded data removed]"
          },
          "metadata": {
            "needs_background": "light"
          }
        }
      ],
      "source": [
        "# Model Evaluation:\n",
        "\n",
        "print(\"Confusion Matrix for Decision Tree Classification model:\")\n",
        "print(\"  \")\n",
        "plot_confusion_matrix(class_tree_DTC, X_test, y_test, cmap='Blues');"
      ]
    },
    {
      "cell_type": "code",
      "execution_count": null,
      "metadata": {
        "colab": {
          "base_uri": "https://localhost:8080/"
        },
        "id": "VLOEA0oYlmcW",
        "outputId": "8b057a81-5994-47b3-a677-1b38b37911e5"
      },
      "outputs": [
        {
          "output_type": "stream",
          "name": "stdout",
          "text": [
            "Classification Report for Decision Tree Classification model:\n",
            "  \n",
            "              precision    recall  f1-score   support\n",
            "\n",
            "           0       1.00      0.98      0.99       447\n",
            "           1       0.81      0.37      0.51       115\n",
            "           2       0.22      0.79      0.35        28\n",
            "\n",
            "    accuracy                           0.85       590\n",
            "   macro avg       0.68      0.71      0.62       590\n",
            "weighted avg       0.92      0.85      0.87       590\n",
            "\n"
          ]
        }
      ],
      "source": [
        "print(\"Classification Report for Decision Tree Classification model:\")\n",
        "print(\"  \")\n",
        "print(CL_DTC)"
      ]
    },
    {
      "cell_type": "markdown",
      "metadata": {
        "id": "2Js5g0gLu9uI"
      },
      "source": [
        "### 5th Classification Model "
      ]
    },
    {
      "cell_type": "markdown",
      "metadata": {
        "id": "j07TNT3nu9uK"
      },
      "source": [
        "#### 5. Gradient Boosting For Classification\n"
      ]
    },
    {
      "cell_type": "code",
      "execution_count": null,
      "metadata": {
        "colab": {
          "base_uri": "https://localhost:8080/"
        },
        "id": "W_pNaIRVlmcX",
        "outputId": "7c037581-bf7d-4d0c-8532-9d33dcc0c06f"
      },
      "outputs": [
        {
          "output_type": "execute_result",
          "data": {
            "text/plain": [
              "GradientBoostingClassifier()"
            ]
          },
          "metadata": {},
          "execution_count": 113
        }
      ],
      "source": [
        "# Gradient Boosting Classifier\n",
        "from sklearn.ensemble import GradientBoostingClassifier\n",
        "\n",
        "GBK = GradientBoostingClassifier()\n",
        "GBK.fit(X_train, y_train)\n",
        "#y_pred = GBK.predict(x_val)\n",
        "#acc_gbk = round(accuracy_score(y_pred, y_val) * 100, 2)\n",
        "#print(acc_gbk)"
      ]
    },
    {
      "cell_type": "code",
      "execution_count": null,
      "metadata": {
        "colab": {
          "base_uri": "https://localhost:8080/"
        },
        "id": "S5w-4JMvlmcY",
        "outputId": "93c71079-c898-45ca-f1df-e1446a209bab"
      },
      "outputs": [
        {
          "output_type": "stream",
          "name": "stdout",
          "text": [
            "Training Accuracy: 90.0%\n",
            "Test Set Accuracy: 92.0%\n"
          ]
        }
      ],
      "source": [
        "val_train_GBK = round(GBK.score(X_train, y_train),2)*100\n",
        "val_test_GBK = round(GBK.score(X_test, y_test),2)*100\n",
        "\n",
        "#Pridected Y Class\n",
        "preds_class_GBK = GBK.predict(X_test)\n",
        "\n",
        "#Classification Report for RF Model\n",
        "CL_GBK=classification_report(y_test, preds_class_GBK)\n",
        "\n",
        "print(f'Training Accuracy: {val_train_GBK}%')\n",
        "print(f'Test Set Accuracy: {val_test_GBK}%')"
      ]
    },
    {
      "cell_type": "code",
      "execution_count": null,
      "metadata": {
        "colab": {
          "base_uri": "https://localhost:8080/",
          "height": 315
        },
        "id": "hw801YKYlmcY",
        "outputId": "b66cf733-339d-42b3-ced9-84548d1d337d"
      },
      "outputs": [
        {
          "output_type": "stream",
          "name": "stdout",
          "text": [
            "Confusion Matrix for Gradient Boosting Classification model:\n",
            "  \n"
          ]
        },
        {
          "output_type": "display_data",
          "data": {
            "text/plain": [
              "<Figure size 432x288 with 2 Axes>"
            ],
            "image/png": "[encoded data removed]"
          },
          "metadata": {
            "needs_background": "light"
          }
        }
      ],
      "source": [
        "# Model Evaluation:\n",
        "\n",
        "print(\"Confusion Matrix for Gradient Boosting Classification model:\")\n",
        "print(\"  \")\n",
        "plot_confusion_matrix(GBK, X_test, y_test, cmap='Blues');"
      ]
    },
    {
      "cell_type": "code",
      "execution_count": null,
      "metadata": {
        "colab": {
          "base_uri": "https://localhost:8080/"
        },
        "id": "VQaQ8dh9lmcY",
        "outputId": "90aad48d-521c-4e90-de90-48386060ccba"
      },
      "outputs": [
        {
          "output_type": "stream",
          "name": "stdout",
          "text": [
            "Classification Report for Gradient Boosting Classification model:\n",
            "  \n",
            "              precision    recall  f1-score   support\n",
            "\n",
            "           0       0.99      1.00      1.00       447\n",
            "           1       0.86      0.72      0.79       115\n",
            "           2       0.33      0.54      0.41        28\n",
            "\n",
            "    accuracy                           0.92       590\n",
            "   macro avg       0.73      0.75      0.73       590\n",
            "weighted avg       0.94      0.92      0.93       590\n",
            "\n"
          ]
        }
      ],
      "source": [
        "print(\"Classification Report for Gradient Boosting Classification model:\")\n",
        "print(\"  \")\n",
        "print(CL_GBK)"
      ]
    },
    {
      "cell_type": "markdown",
      "metadata": {
        "id": "QJj8I3oxu9uJ"
      },
      "source": [
        "### 6th Classification Model "
      ]
    },
    {
      "cell_type": "markdown",
      "metadata": {
        "id": "iKScyXp4rovy"
      },
      "source": [
        "#### 6. XGBoost for Classification"
      ]
    },
    {
      "cell_type": "code",
      "execution_count": null,
      "metadata": {
        "colab": {
          "base_uri": "https://localhost:8080/"
        },
        "outputId": "4f4efead-6961-4bf1-b993-581a47c38e7d",
        "id": "nT1mW-rkrovz"
      },
      "outputs": [
        {
          "output_type": "execute_result",
          "data": {
            "text/plain": [
              "XGBClassifier(objective='multi:softprob')"
            ]
          },
          "metadata": {},
          "execution_count": 117
        }
      ],
      "source": [
        "classifierXGBC = XGBClassifier()\n",
        "classifierXGBC.fit(X_train, y_train)"
      ]
    },
    {
      "cell_type": "code",
      "execution_count": null,
      "metadata": {
        "colab": {
          "base_uri": "https://localhost:8080/"
        },
        "outputId": "54e2f60f-bd4e-484c-f78c-fa050c1aff52",
        "id": "XPiLpI5arov0"
      },
      "outputs": [
        {
          "output_type": "stream",
          "name": "stdout",
          "text": [
            "Training Accuracy of XGBoost Classifier: 88.0%\n",
            "Test Set Accuracy of XGBoost Classifier:  93.0%\n"
          ]
        }
      ],
      "source": [
        "val_train_XGBC = round(classifierXGBC.score(X_train, y_train),2)*100\n",
        "val_test_XGBC = round(classifierXGBC.score(X_test, y_test),2)*100\n",
        "\n",
        "#Pridected Y Class\n",
        "preds_class_XGBC = classifierXGBC.predict(X_test)\n",
        "\n",
        "#Classification Report for RF Model\n",
        "CL_XGBC=classification_report(y_test, preds_class_XGBC)\n",
        "\n",
        "print(f'Training Accuracy of XGBoost Classifier: {val_train_XGBC}%')\n",
        "print(f'Test Set Accuracy of XGBoost Classifier:  {val_test_XGBC}%')"
      ]
    },
    {
      "cell_type": "code",
      "execution_count": null,
      "metadata": {
        "colab": {
          "base_uri": "https://localhost:8080/",
          "height": 334
        },
        "outputId": "dee37e38-4e93-4b29-a82c-319616cf32e9",
        "id": "6Pgn5coNrov0"
      },
      "outputs": [
        {
          "output_type": "stream",
          "name": "stdout",
          "text": [
            "Confusion Matrix for XGBoost Classification model:\n",
            "  \n"
          ]
        },
        {
          "output_type": "execute_result",
          "data": {
            "text/plain": [
              "<sklearn.metrics._plot.confusion_matrix.ConfusionMatrixDisplay at 0x7f99416f1cd0>"
            ]
          },
          "metadata": {},
          "execution_count": 119
        },
        {
          "output_type": "display_data",
          "data": {
            "text/plain": [
              "<Figure size 432x288 with 2 Axes>"
            ],
            "image/png": "[encoded data removed]"
          },
          "metadata": {
            "needs_background": "light"
          }
        }
      ],
      "source": [
        "# Model Evaluation:\n",
        "print(\"Confusion Matrix for XGBoost Classification model:\")\n",
        "print(\"  \")\n",
        "plot_confusion_matrix(classifierXGBC, X=X_test, y_true=y_test, cmap='Blues')"
      ]
    },
    {
      "cell_type": "code",
      "execution_count": null,
      "metadata": {
        "colab": {
          "base_uri": "https://localhost:8080/"
        },
        "outputId": "e8cccd25-4f00-4a27-9dd5-ec76ce3cf31c",
        "id": "ArHvy9qlrov0"
      },
      "outputs": [
        {
          "output_type": "stream",
          "name": "stdout",
          "text": [
            "Classification Report for XGBoost Classification model:\n",
            "  \n",
            "              precision    recall  f1-score   support\n",
            "\n",
            "           0       0.99      1.00      0.99       447\n",
            "           1       0.87      0.78      0.83       115\n",
            "           2       0.39      0.54      0.45        28\n",
            "\n",
            "    accuracy                           0.93       590\n",
            "   macro avg       0.75      0.77      0.76       590\n",
            "weighted avg       0.94      0.93      0.94       590\n",
            "\n"
          ]
        }
      ],
      "source": [
        "print(\"Classification Report for XGBoost Classification model:\")\n",
        "print(\"  \")\n",
        "print(CL_XGBC)"
      ]
    },
    {
      "cell_type": "markdown",
      "source": [
        "###**We chose to use XGBoost Model since it has the highest accuracy and Less False predection**"
      ],
      "metadata": {
        "id": "OaM-zeR3xLyW"
      }
    },
    {
      "cell_type": "markdown",
      "source": [
        "### 6. Model Optimization - Hyperparameter Tuning "
      ],
      "metadata": {
        "id": "74CuoZF_wCnr"
      }
    },
    {
      "cell_type": "code",
      "source": [
        "# XGB\n",
        "import xgboost as xgb"
      ],
      "metadata": {
        "id": "CEBCGDhDwEtU"
      },
      "execution_count": null,
      "outputs": []
    },
    {
      "cell_type": "code",
      "source": [
        "# Classification\n",
        "\n",
        "# Grid Search Parameters\n",
        "grid_search_params = {\n",
        "    'colsample_bytree': [0.3, 0.7],\n",
        "    'learning_rate': [0.01, 0.1, 0.2, 0.5],\n",
        "    'n_estimators': [100],\n",
        "    'subsample': [0.2, 0.5, 0.8],\n",
        "    'max_depth': [2, 3, 5]\n",
        "}\n",
        "\n",
        "xg_grid_c = xgb.XGBClassifier(objective = \"multi:softmax\") # we're doing multi-class classification\n",
        "\n",
        "\n",
        "xgb_grid_2 = GridSearchCV( estimator = xg_grid_c,\n",
        "                    param_grid = grid_search_params,\n",
        "                    scoring = 'accuracy',\n",
        "                    cv = 10, verbose = 1)\n",
        "\n",
        "xgb_grid_2.fit(X_train, y_train)"
      ],
      "metadata": {
        "id": "2ltuBsvhwVCL",
        "colab": {
          "base_uri": "https://localhost:8080/"
        },
        "outputId": "cee14b88-c235-48ea-81a6-db7a7ee18d01"
      },
      "execution_count": null,
      "outputs": [
        {
          "output_type": "stream",
          "name": "stdout",
          "text": [
            "Fitting 10 folds for each of 72 candidates, totalling 720 fits\n"
          ]
        },
        {
          "output_type": "execute_result",
          "data": {
            "text/plain": [
              "GridSearchCV(cv=10, estimator=XGBClassifier(objective='multi:softmax'),\n",
              "             param_grid={'colsample_bytree': [0.3, 0.7],\n",
              "                         'learning_rate': [0.01, 0.1, 0.2, 0.5],\n",
              "                         'max_depth': [2, 3, 5], 'n_estimators': [100],\n",
              "                         'subsample': [0.2, 0.5, 0.8]},\n",
              "             scoring='accuracy', verbose=1)"
            ]
          },
          "metadata": {},
          "execution_count": 131
        }
      ]
    },
    {
      "cell_type": "markdown",
      "source": [
        "### 7. Model Pipeline"
      ],
      "metadata": {
        "id": "QtrH0nQEw6Qg"
      }
    },
    {
      "cell_type": "code",
      "source": [
        "pipeline_rf = make_pipeline(\n",
        "    StandardScaler(),\n",
        "    XGBClassifier()\n",
        ")"
      ],
      "metadata": {
        "id": "F0P4gNK8Z8tX"
      },
      "execution_count": null,
      "outputs": []
    },
    {
      "cell_type": "code",
      "source": [
        "pipeline_rf.fit(X_train, y_train)"
      ],
      "metadata": {
        "colab": {
          "base_uri": "https://localhost:8080/"
        },
        "id": "CFsuzvq9ubUH",
        "outputId": "398e2b0e-73e8-4740-c340-1a4d02da5ef8"
      },
      "execution_count": null,
      "outputs": [
        {
          "output_type": "execute_result",
          "data": {
            "text/plain": [
              "Pipeline(steps=[('standardscaler', StandardScaler()),\n",
              "                ('xgbclassifier', XGBClassifier(objective='multi:softprob'))])"
            ]
          },
          "metadata": {},
          "execution_count": 127
        }
      ]
    },
    {
      "cell_type": "code",
      "source": [
        "cv_score = cross_val_score(XGBClassifier(), X_train,y_train,scoring=\"neg_root_mean_squared_error\", cv=12)\n",
        "print(-1 * cv_score.mean())"
      ],
      "metadata": {
        "colab": {
          "base_uri": "https://localhost:8080/"
        },
        "id": "AvhAck2-vR3z",
        "outputId": "42a326e0-afaf-4d5c-e8fd-cf5cfcd117f5"
      },
      "execution_count": null,
      "outputs": [
        {
          "output_type": "stream",
          "name": "stdout",
          "text": [
            "0.3793449496170251\n"
          ]
        }
      ]
    }
  ],
  "metadata": {
    "colab": {
      "collapsed_sections": [
        "jUxhW4gOgKD2",
        "bXpSJgFmDY9l",
        "Dv112S5TDY9v"
      ],
      "provenance": []
    },
    "kernelspec": {
      "display_name": "Python 3 (ipykernel)",
      "language": "python",
      "name": "python3"
    },
    "language_info": {
      "codemirror_mode": {
        "name": "ipython",
        "version": 3
      },
      "file_extension": ".py",
      "mimetype": "text/x-python",
      "name": "python",
      "nbconvert_exporter": "python",
      "pygments_lexer": "ipython3",
      "version": "3.9.7"
    }
  },
  "nbformat": 4,
  "nbformat_minor": 0
}